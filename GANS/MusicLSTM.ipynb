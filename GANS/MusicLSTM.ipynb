{
  "nbformat": 4,
  "nbformat_minor": 0,
  "metadata": {
    "colab": {
      "provenance": []
    },
    "kernelspec": {
      "name": "python3",
      "display_name": "Python 3"
    },
    "language_info": {
      "name": "python"
    }
  },
  "cells": [
    {
      "cell_type": "markdown",
      "metadata": {
        "id": "vkQKlayTveEo"
      },
      "source": [
        "##**Importing Required Packages**\n"
      ]
    },
    {
      "cell_type": "code",
      "metadata": {
        "colab": {
          "base_uri": "https://localhost:8080/"
        },
        "id": "GE0XhwgmvQ2C",
        "outputId": "222e7a51-d6d3-4ce6-e151-b49b2343920f"
      },
      "source": [
        "!pip install mido"
      ],
      "execution_count": null,
      "outputs": [
        {
          "output_type": "stream",
          "name": "stdout",
          "text": [
            "Collecting mido\n",
            "  Downloading mido-1.2.10-py2.py3-none-any.whl (51 kB)\n",
            "\u001b[?25l\r\u001b[K     |██████▍                         | 10 kB 16.4 MB/s eta 0:00:01\r\u001b[K     |████████████▉                   | 20 kB 9.0 MB/s eta 0:00:01\r\u001b[K     |███████████████████▎            | 30 kB 7.3 MB/s eta 0:00:01\r\u001b[K     |█████████████████████████▋      | 40 kB 6.7 MB/s eta 0:00:01\r\u001b[K     |████████████████████████████████| 51 kB 2.1 MB/s \n",
            "\u001b[?25hInstalling collected packages: mido\n",
            "Successfully installed mido-1.2.10\n"
          ]
        }
      ]
    },
    {
      "cell_type": "code",
      "metadata": {
        "id": "eVSJRfJ-vaXW"
      },
      "source": [
        "import mido\n",
        "from mido import MidiFile, MidiTrack, Message\n",
        "from keras.layers import LSTM, Dense, Activation, Dropout, Flatten\n",
        "from keras.preprocessing import sequence\n",
        "from keras.models import Sequential\n",
        "from tensorflow.keras.optimizers import Adam\n",
        "from sklearn.preprocessing import MinMaxScaler, StandardScaler\n",
        "import numpy as np"
      ],
      "execution_count": null,
      "outputs": []
    },
    {
      "cell_type": "markdown",
      "metadata": {
        "id": "FKaFwLewvmCX"
      },
      "source": [
        "##**Load MID file/files**"
      ]
    },
    {
      "cell_type": "code",
      "metadata": {
        "id": "ak39F93pvky4"
      },
      "source": [
        "!unzip /content/chillhopdata.zip -d chillhop"
      ],
      "execution_count": null,
      "outputs": []
    },
    {
      "cell_type": "code",
      "metadata": {
        "id": "RJ4A-y7XDT1b"
      },
      "source": [
        "import os\n",
        "\n",
        "notes = []\n",
        "for song in os.listdir(\"/content/chillhop\"):\n",
        "  mid = MidiFile('/content/chillhop/' + song)\n",
        "  for msg in mid:\n",
        "    if not msg.is_meta and msg.channel == 0 and msg.type =='note_on':\n",
        "      data = msg.bytes()\n",
        "      notes.append(data[1])\n",
        "  "
      ],
      "execution_count": null,
      "outputs": []
    },
    {
      "cell_type": "markdown",
      "metadata": {
        "id": "b1QU2Ydwvsg9"
      },
      "source": [
        "##**Scale Data**"
      ]
    },
    {
      "cell_type": "code",
      "metadata": {
        "id": "tKdH3EATvv42"
      },
      "source": [
        "scaler = MinMaxScaler()\n",
        "notes = list(scaler.fit_transform(np.array(notes).reshape(-1, 1)))"
      ],
      "execution_count": null,
      "outputs": []
    },
    {
      "cell_type": "markdown",
      "metadata": {
        "id": "JXK4vYTTvwJj"
      },
      "source": [
        "##**Create Train Data**"
      ]
    },
    {
      "cell_type": "code",
      "metadata": {
        "id": "ZrM-0vwCv_jW"
      },
      "source": [
        "notes = [list(note) for note in notes]\n",
        "\n",
        "X = []\n",
        "y = []\n",
        "\n",
        "n_prev=30\n",
        "\n",
        "for i in range(len(notes) - n_prev):\n",
        "  X.append(notes[i:i+n_prev])\n",
        "  y.append(notes[i+n_prev])\n",
        "\n",
        "X_test = X[-300:]\n",
        "X = X[:-300]\n",
        "y = y[:-300]"
      ],
      "execution_count": null,
      "outputs": []
    },
    {
      "cell_type": "markdown",
      "metadata": {
        "id": "vdwd6DoawElP"
      },
      "source": [
        "##**Build LSTM**"
      ]
    },
    {
      "cell_type": "code",
      "metadata": {
        "colab": {
          "base_uri": "https://localhost:8080/"
        },
        "id": "WQ8I3hfiwHSc",
        "outputId": "4d08650e-ac15-4cda-f50d-4a17e4892ddd"
      },
      "source": [
        "model = Sequential()\n",
        "model.add(LSTM(256, input_shape=(n_prev, 1), return_sequences=True))\n",
        "model.add(Dropout(0.6))\n",
        "model.add(LSTM(128, input_shape=(n_prev, 1), return_sequences=True))\n",
        "model.add(Dropout(0.6))\n",
        "model.add(LSTM(64, input_shape=(n_prev, 1), return_sequences=False))\n",
        "model.add(Dropout(0.6))\n",
        "model.add(Dense(1))\n",
        "model.add(Activation('linear'))\n",
        "model.summary()\n",
        "\n",
        "optimizer = Adam(lr=0.001)\n",
        "model.compile(loss='mse', optimizer=optimizer)\n"
      ],
      "execution_count": null,
      "outputs": [
        {
          "output_type": "stream",
          "name": "stdout",
          "text": [
            "Model: \"sequential_2\"\n",
            "_________________________________________________________________\n",
            "Layer (type)                 Output Shape              Param #   \n",
            "=================================================================\n",
            "lstm_6 (LSTM)                (None, 30, 256)           264192    \n",
            "_________________________________________________________________\n",
            "dropout_6 (Dropout)          (None, 30, 256)           0         \n",
            "_________________________________________________________________\n",
            "lstm_7 (LSTM)                (None, 30, 128)           197120    \n",
            "_________________________________________________________________\n",
            "dropout_7 (Dropout)          (None, 30, 128)           0         \n",
            "_________________________________________________________________\n",
            "lstm_8 (LSTM)                (None, 64)                49408     \n",
            "_________________________________________________________________\n",
            "dropout_8 (Dropout)          (None, 64)                0         \n",
            "_________________________________________________________________\n",
            "dense_2 (Dense)              (None, 1)                 65        \n",
            "_________________________________________________________________\n",
            "activation (Activation)      (None, 1)                 0         \n",
            "=================================================================\n",
            "Total params: 510,785\n",
            "Trainable params: 510,785\n",
            "Non-trainable params: 0\n",
            "_________________________________________________________________\n"
          ]
        },
        {
          "output_type": "stream",
          "name": "stderr",
          "text": [
            "/usr/local/lib/python3.7/dist-packages/keras/optimizer_v2/optimizer_v2.py:356: UserWarning: The `lr` argument is deprecated, use `learning_rate` instead.\n",
            "  \"The `lr` argument is deprecated, use `learning_rate` instead.\")\n"
          ]
        }
      ]
    },
    {
      "cell_type": "markdown",
      "metadata": {
        "id": "SG9mJWyUwIUx"
      },
      "source": [
        "##**Training**"
      ]
    },
    {
      "cell_type": "code",
      "metadata": {
        "colab": {
          "base_uri": "https://localhost:8080/"
        },
        "id": "dBFvEFrIwJ-e",
        "outputId": "331d2216-de14-4534-d0c5-1b8df50e9c98"
      },
      "source": [
        "model.fit(np.array(X), np.array(y), batch_size=16, epochs=10, verbose=1)"
      ],
      "execution_count": null,
      "outputs": [
        {
          "output_type": "stream",
          "name": "stdout",
          "text": [
            "Epoch 1/10\n",
            "195/195 [==============================] - 27s 139ms/step - loss: 0.0179\n",
            "Epoch 2/10\n",
            "195/195 [==============================] - 27s 139ms/step - loss: 0.0170\n",
            "Epoch 3/10\n",
            "195/195 [==============================] - 27s 140ms/step - loss: 0.0161\n",
            "Epoch 4/10\n",
            "195/195 [==============================] - 28s 144ms/step - loss: 0.0162\n",
            "Epoch 5/10\n",
            "195/195 [==============================] - 28s 144ms/step - loss: 0.0161\n",
            "Epoch 6/10\n",
            "195/195 [==============================] - 27s 139ms/step - loss: 0.0158\n",
            "Epoch 7/10\n",
            "195/195 [==============================] - 28s 146ms/step - loss: 0.0153\n",
            "Epoch 8/10\n",
            "195/195 [==============================] - 28s 144ms/step - loss: 0.0153\n",
            "Epoch 9/10\n",
            "195/195 [==============================] - 28s 143ms/step - loss: 0.0152\n",
            "Epoch 10/10\n",
            "195/195 [==============================] - 28s 145ms/step - loss: 0.0152\n"
          ]
        },
        {
          "output_type": "execute_result",
          "data": {
            "text/plain": [
              "<keras.callbacks.History at 0x7f9012bb6550>"
            ]
          },
          "metadata": {},
          "execution_count": 20
        }
      ]
    },
    {
      "cell_type": "markdown",
      "metadata": {
        "id": "Nq7SeQc4wKOQ"
      },
      "source": [
        "##**Generating & Saving LSTM Music**"
      ]
    },
    {
      "cell_type": "code",
      "metadata": {
        "id": "o_6WtTJlwi-a"
      },
      "source": [
        "prediction = model.predict(np.array(X_test))\n",
        "prediction = np.squeeze(prediction)\n",
        "prediction = np.squeeze(scaler.inverse_transform(prediction.reshape(-1,1)))\n",
        "prediction = [int(i) for i in prediction]\n",
        "\n",
        "mid = MidiFile()\n",
        "track = MidiTrack()\n",
        "t = 0\n",
        "for note in prediction:\n",
        "    # 147 means note_on\n",
        "    # 67 is velosity\n",
        "    note = np.asarray([147, note, 67])\n",
        "    bytes = note.astype(int)\n",
        "    msg = Message.from_bytes(bytes[0:3])\n",
        "    t += 1\n",
        "    msg.time = t\n",
        "    track.append(msg)\n",
        "mid.tracks.append(track)\n",
        "mid.save('LSTM_music.mid')"
      ],
      "execution_count": null,
      "outputs": []
    },
    {
      "cell_type": "code",
      "metadata": {
        "id": "7IoFQwKwLGMA"
      },
      "source": [],
      "execution_count": null,
      "outputs": []
    }
  ]
}