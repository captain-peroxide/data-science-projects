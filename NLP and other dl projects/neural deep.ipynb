{
 "cells": [
  {
   "cell_type": "code",
   "execution_count": 1,
   "id": "19843881",
   "metadata": {},
   "outputs": [],
   "source": [
    "import tensorflow as tf"
   ]
  },
  {
   "cell_type": "code",
   "execution_count": 2,
   "id": "3a5a4627",
   "metadata": {},
   "outputs": [],
   "source": [
    "from tensorflow import keras"
   ]
  },
  {
   "cell_type": "code",
   "execution_count": 3,
   "id": "32041879",
   "metadata": {},
   "outputs": [],
   "source": [
    "mnist=keras.datasets.mnist\n",
    "(X_train,Y_train),(X_test,Y_test)=mnist.load_data()"
   ]
  },
  {
   "cell_type": "code",
   "execution_count": 4,
   "id": "ef6204f0",
   "metadata": {},
   "outputs": [
    {
     "name": "stdout",
     "output_type": "stream",
     "text": [
      "(60000, 28, 28)\n",
      "(10000, 28, 28)\n"
     ]
    }
   ],
   "source": [
    "print(X_train.shape)\n",
    "print(X_test.shape)"
   ]
  },
  {
   "cell_type": "code",
   "execution_count": 5,
   "id": "4ba2fb67",
   "metadata": {},
   "outputs": [],
   "source": [
    "X_train=X_train.astype('float32')\n",
    "X_test=X_test.astype('float32')"
   ]
  },
  {
   "cell_type": "code",
   "execution_count": 6,
   "id": "078d8bef",
   "metadata": {},
   "outputs": [
    {
     "name": "stdout",
     "output_type": "stream",
     "text": [
      "60000 train samples\n",
      "10000 test samples\n"
     ]
    }
   ],
   "source": [
    "RESHAPED=784\n",
    "X_train=X_train.reshape(60000,RESHAPED)\n",
    "X_test=X_test.reshape(10000,RESHAPED)\n",
    "\n",
    "X_train=X_train.astype('float32')\n",
    "X_test=X_test.astype('float32')\n",
    "\n",
    "\n",
    "X_train/=255\n",
    "X_test/=255\n",
    "\n",
    "print(X_train.shape[0],\"train samples\")\n",
    "print(X_test.shape[0],\"test samples\")\n",
    "\n",
    "\n",
    "Y_train=tf.keras.utils.to_categorical(Y_train,10)\n",
    "Y_test=tf.keras.utils.to_categorical(Y_test,10)"
   ]
  },
  {
   "cell_type": "code",
   "execution_count": 7,
   "id": "98bfbf3c",
   "metadata": {},
   "outputs": [],
   "source": [
    "from tensorflow.keras.layers import Dense\n",
    "from tensorflow.keras import Sequential\n",
    "model_0=Sequential()\n",
    "model_0.add(Dense(10,input_shape=(784,),name=\"dense_layer\",activation=\"softmax\"))"
   ]
  },
  {
   "cell_type": "code",
   "execution_count": 8,
   "id": "472b7b92",
   "metadata": {},
   "outputs": [],
   "source": [
    "model_0.compile(optimizer=\"SGD\",loss=\"categorical_crossentropy\",metrics=[\"accuracy\"])"
   ]
  },
  {
   "cell_type": "code",
   "execution_count": 9,
   "id": "b4c0e9ae",
   "metadata": {},
   "outputs": [
    {
     "name": "stdout",
     "output_type": "stream",
     "text": [
      "Epoch 1/70\n",
      "750/750 [==============================] - 2s 3ms/step - loss: 1.0891 - accuracy: 0.7464 - val_loss: 0.6576 - val_accuracy: 0.8567\n",
      "Epoch 2/70\n",
      "750/750 [==============================] - 2s 2ms/step - loss: 0.6089 - accuracy: 0.8550 - val_loss: 0.5095 - val_accuracy: 0.8758\n",
      "Epoch 3/70\n",
      "750/750 [==============================] - 2s 2ms/step - loss: 0.5133 - accuracy: 0.8705 - val_loss: 0.4512 - val_accuracy: 0.8871\n",
      "Epoch 4/70\n",
      "750/750 [==============================] - 2s 2ms/step - loss: 0.4668 - accuracy: 0.8791 - val_loss: 0.4187 - val_accuracy: 0.8920\n",
      "Epoch 5/70\n",
      "750/750 [==============================] - 2s 3ms/step - loss: 0.4382 - accuracy: 0.8840 - val_loss: 0.3978 - val_accuracy: 0.8963\n",
      "Epoch 6/70\n",
      "750/750 [==============================] - 3s 4ms/step - loss: 0.4183 - accuracy: 0.8878 - val_loss: 0.3825 - val_accuracy: 0.8984\n",
      "Epoch 7/70\n",
      "750/750 [==============================] - 3s 4ms/step - loss: 0.4034 - accuracy: 0.8907 - val_loss: 0.3710 - val_accuracy: 0.9007\n",
      "Epoch 8/70\n",
      "750/750 [==============================] - 3s 4ms/step - loss: 0.3916 - accuracy: 0.8935 - val_loss: 0.3616 - val_accuracy: 0.9028\n",
      "Epoch 9/70\n",
      "750/750 [==============================] - 3s 4ms/step - loss: 0.3821 - accuracy: 0.8958 - val_loss: 0.3542 - val_accuracy: 0.9047\n",
      "Epoch 10/70\n",
      "750/750 [==============================] - 3s 4ms/step - loss: 0.3743 - accuracy: 0.8975 - val_loss: 0.3483 - val_accuracy: 0.9062\n",
      "Epoch 11/70\n",
      "750/750 [==============================] - 3s 4ms/step - loss: 0.3676 - accuracy: 0.8988 - val_loss: 0.3426 - val_accuracy: 0.9075\n",
      "Epoch 12/70\n",
      "750/750 [==============================] - 3s 4ms/step - loss: 0.3617 - accuracy: 0.9001 - val_loss: 0.3382 - val_accuracy: 0.9082\n",
      "Epoch 13/70\n",
      "750/750 [==============================] - 3s 4ms/step - loss: 0.3566 - accuracy: 0.9010 - val_loss: 0.3343 - val_accuracy: 0.9098\n",
      "Epoch 14/70\n",
      "750/750 [==============================] - 3s 4ms/step - loss: 0.3521 - accuracy: 0.9025 - val_loss: 0.3306 - val_accuracy: 0.9105\n",
      "Epoch 15/70\n",
      "750/750 [==============================] - 3s 4ms/step - loss: 0.3480 - accuracy: 0.9035 - val_loss: 0.3272 - val_accuracy: 0.9102\n",
      "Epoch 16/70\n",
      "750/750 [==============================] - 3s 4ms/step - loss: 0.3444 - accuracy: 0.9049 - val_loss: 0.3246 - val_accuracy: 0.9107\n",
      "Epoch 17/70\n",
      "750/750 [==============================] - 3s 4ms/step - loss: 0.3411 - accuracy: 0.9052 - val_loss: 0.3219 - val_accuracy: 0.9118\n",
      "Epoch 18/70\n",
      "750/750 [==============================] - 4s 5ms/step - loss: 0.3381 - accuracy: 0.9062 - val_loss: 0.3197 - val_accuracy: 0.9117\n",
      "Epoch 19/70\n",
      "750/750 [==============================] - 4s 5ms/step - loss: 0.3352 - accuracy: 0.9064 - val_loss: 0.3172 - val_accuracy: 0.9128\n",
      "Epoch 20/70\n",
      "750/750 [==============================] - 3s 4ms/step - loss: 0.3327 - accuracy: 0.9077 - val_loss: 0.3151 - val_accuracy: 0.9132\n",
      "Epoch 21/70\n",
      "750/750 [==============================] - 3s 4ms/step - loss: 0.3303 - accuracy: 0.9083 - val_loss: 0.3135 - val_accuracy: 0.9137\n",
      "Epoch 22/70\n",
      "750/750 [==============================] - 3s 4ms/step - loss: 0.3281 - accuracy: 0.9090 - val_loss: 0.3116 - val_accuracy: 0.9134\n",
      "Epoch 23/70\n",
      "750/750 [==============================] - 3s 4ms/step - loss: 0.3260 - accuracy: 0.9096 - val_loss: 0.3102 - val_accuracy: 0.9143\n",
      "Epoch 24/70\n",
      "750/750 [==============================] - 3s 4ms/step - loss: 0.3241 - accuracy: 0.9100 - val_loss: 0.3086 - val_accuracy: 0.9153\n",
      "Epoch 25/70\n",
      "750/750 [==============================] - 3s 4ms/step - loss: 0.3222 - accuracy: 0.9105 - val_loss: 0.3070 - val_accuracy: 0.9152\n",
      "Epoch 26/70\n",
      "750/750 [==============================] - 3s 4ms/step - loss: 0.3205 - accuracy: 0.9112 - val_loss: 0.3058 - val_accuracy: 0.9156\n",
      "Epoch 27/70\n",
      "750/750 [==============================] - 3s 4ms/step - loss: 0.3189 - accuracy: 0.9113 - val_loss: 0.3047 - val_accuracy: 0.9153\n",
      "Epoch 28/70\n",
      "750/750 [==============================] - 3s 4ms/step - loss: 0.3174 - accuracy: 0.9118 - val_loss: 0.3034 - val_accuracy: 0.9158\n",
      "Epoch 29/70\n",
      "750/750 [==============================] - 3s 4ms/step - loss: 0.3159 - accuracy: 0.9124 - val_loss: 0.3024 - val_accuracy: 0.9162\n",
      "Epoch 30/70\n",
      "750/750 [==============================] - 3s 4ms/step - loss: 0.3145 - accuracy: 0.9125 - val_loss: 0.3012 - val_accuracy: 0.9166\n",
      "Epoch 31/70\n",
      "750/750 [==============================] - 3s 4ms/step - loss: 0.3132 - accuracy: 0.9132 - val_loss: 0.3003 - val_accuracy: 0.9162\n",
      "Epoch 32/70\n",
      "750/750 [==============================] - 3s 4ms/step - loss: 0.3119 - accuracy: 0.9135 - val_loss: 0.2994 - val_accuracy: 0.9168\n",
      "Epoch 33/70\n",
      "750/750 [==============================] - 3s 4ms/step - loss: 0.3107 - accuracy: 0.9137 - val_loss: 0.2984 - val_accuracy: 0.9168\n",
      "Epoch 34/70\n",
      "750/750 [==============================] - 3s 4ms/step - loss: 0.3096 - accuracy: 0.9143 - val_loss: 0.2976 - val_accuracy: 0.9174\n",
      "Epoch 35/70\n",
      "750/750 [==============================] - 3s 4ms/step - loss: 0.3085 - accuracy: 0.9144 - val_loss: 0.2968 - val_accuracy: 0.9176\n",
      "Epoch 36/70\n",
      "750/750 [==============================] - 3s 4ms/step - loss: 0.3074 - accuracy: 0.9146 - val_loss: 0.2959 - val_accuracy: 0.9177\n",
      "Epoch 37/70\n",
      "750/750 [==============================] - 3s 4ms/step - loss: 0.3063 - accuracy: 0.9146 - val_loss: 0.2954 - val_accuracy: 0.9180\n",
      "Epoch 38/70\n",
      "750/750 [==============================] - 3s 4ms/step - loss: 0.3054 - accuracy: 0.9154 - val_loss: 0.2947 - val_accuracy: 0.9187\n",
      "Epoch 39/70\n",
      "750/750 [==============================] - 3s 4ms/step - loss: 0.3045 - accuracy: 0.9153 - val_loss: 0.2940 - val_accuracy: 0.9175\n",
      "Epoch 40/70\n",
      "750/750 [==============================] - 4s 5ms/step - loss: 0.3036 - accuracy: 0.9155 - val_loss: 0.2933 - val_accuracy: 0.9181\n",
      "Epoch 41/70\n",
      "750/750 [==============================] - 3s 4ms/step - loss: 0.3027 - accuracy: 0.9161 - val_loss: 0.2924 - val_accuracy: 0.9184\n",
      "Epoch 42/70\n",
      "750/750 [==============================] - 3s 4ms/step - loss: 0.3019 - accuracy: 0.9162 - val_loss: 0.2919 - val_accuracy: 0.9194\n",
      "Epoch 43/70\n",
      "750/750 [==============================] - 3s 4ms/step - loss: 0.3010 - accuracy: 0.9165 - val_loss: 0.2913 - val_accuracy: 0.9193\n",
      "Epoch 44/70\n",
      "750/750 [==============================] - 3s 4ms/step - loss: 0.3003 - accuracy: 0.9165 - val_loss: 0.2907 - val_accuracy: 0.9193\n",
      "Epoch 45/70\n",
      "750/750 [==============================] - 4s 5ms/step - loss: 0.2995 - accuracy: 0.9167 - val_loss: 0.2901 - val_accuracy: 0.9205\n",
      "Epoch 46/70\n",
      "750/750 [==============================] - 4s 6ms/step - loss: 0.2987 - accuracy: 0.9167 - val_loss: 0.2898 - val_accuracy: 0.9197\n",
      "Epoch 47/70\n",
      "750/750 [==============================] - 4s 6ms/step - loss: 0.2980 - accuracy: 0.9171 - val_loss: 0.2891 - val_accuracy: 0.9200\n",
      "Epoch 48/70\n",
      "750/750 [==============================] - 4s 5ms/step - loss: 0.2974 - accuracy: 0.9174 - val_loss: 0.2887 - val_accuracy: 0.9197\n",
      "Epoch 49/70\n",
      "750/750 [==============================] - 4s 6ms/step - loss: 0.2966 - accuracy: 0.9176 - val_loss: 0.2882 - val_accuracy: 0.9207\n",
      "Epoch 50/70\n",
      "750/750 [==============================] - 4s 5ms/step - loss: 0.2960 - accuracy: 0.9174 - val_loss: 0.2878 - val_accuracy: 0.9197\n",
      "Epoch 51/70\n",
      "750/750 [==============================] - 4s 5ms/step - loss: 0.2954 - accuracy: 0.9178 - val_loss: 0.2874 - val_accuracy: 0.9201\n",
      "Epoch 52/70\n",
      "750/750 [==============================] - 4s 6ms/step - loss: 0.2948 - accuracy: 0.9177 - val_loss: 0.2869 - val_accuracy: 0.9201\n",
      "Epoch 53/70\n",
      "750/750 [==============================] - 3s 5ms/step - loss: 0.2942 - accuracy: 0.9177 - val_loss: 0.2864 - val_accuracy: 0.9199\n",
      "Epoch 54/70\n",
      "750/750 [==============================] - 3s 4ms/step - loss: 0.2936 - accuracy: 0.9183 - val_loss: 0.2859 - val_accuracy: 0.9208\n",
      "Epoch 55/70\n",
      "750/750 [==============================] - 3s 4ms/step - loss: 0.2930 - accuracy: 0.9185 - val_loss: 0.2857 - val_accuracy: 0.9206\n",
      "Epoch 56/70\n",
      "750/750 [==============================] - 3s 4ms/step - loss: 0.2925 - accuracy: 0.9185 - val_loss: 0.2854 - val_accuracy: 0.9208\n",
      "Epoch 57/70\n",
      "750/750 [==============================] - 3s 4ms/step - loss: 0.2919 - accuracy: 0.9187 - val_loss: 0.2848 - val_accuracy: 0.9203\n",
      "Epoch 58/70\n"
     ]
    },
    {
     "name": "stdout",
     "output_type": "stream",
     "text": [
      "750/750 [==============================] - 4s 5ms/step - loss: 0.2914 - accuracy: 0.9187 - val_loss: 0.2847 - val_accuracy: 0.9212\n",
      "Epoch 59/70\n",
      "750/750 [==============================] - 3s 4ms/step - loss: 0.2909 - accuracy: 0.9190 - val_loss: 0.2843 - val_accuracy: 0.9213\n",
      "Epoch 60/70\n",
      "750/750 [==============================] - 3s 4ms/step - loss: 0.2903 - accuracy: 0.9191 - val_loss: 0.2839 - val_accuracy: 0.9213\n",
      "Epoch 61/70\n",
      "750/750 [==============================] - 3s 4ms/step - loss: 0.2899 - accuracy: 0.9192 - val_loss: 0.2835 - val_accuracy: 0.9209\n",
      "Epoch 62/70\n",
      "750/750 [==============================] - 4s 5ms/step - loss: 0.2894 - accuracy: 0.9193 - val_loss: 0.2835 - val_accuracy: 0.9212\n",
      "Epoch 63/70\n",
      "750/750 [==============================] - 4s 5ms/step - loss: 0.2889 - accuracy: 0.9193 - val_loss: 0.2830 - val_accuracy: 0.9221\n",
      "Epoch 64/70\n",
      "750/750 [==============================] - 4s 5ms/step - loss: 0.2885 - accuracy: 0.9197 - val_loss: 0.2827 - val_accuracy: 0.9213\n",
      "Epoch 65/70\n",
      "750/750 [==============================] - 3s 4ms/step - loss: 0.2880 - accuracy: 0.9197 - val_loss: 0.2824 - val_accuracy: 0.9218\n",
      "Epoch 66/70\n",
      "750/750 [==============================] - 4s 5ms/step - loss: 0.2876 - accuracy: 0.9198 - val_loss: 0.2823 - val_accuracy: 0.9211\n",
      "Epoch 67/70\n",
      "750/750 [==============================] - 4s 6ms/step - loss: 0.2872 - accuracy: 0.9201 - val_loss: 0.2817 - val_accuracy: 0.9218\n",
      "Epoch 68/70\n",
      "750/750 [==============================] - 5s 6ms/step - loss: 0.2866 - accuracy: 0.9201 - val_loss: 0.2818 - val_accuracy: 0.9218\n",
      "Epoch 69/70\n",
      "750/750 [==============================] - 4s 5ms/step - loss: 0.2864 - accuracy: 0.9202 - val_loss: 0.2812 - val_accuracy: 0.9220\n",
      "Epoch 70/70\n",
      "750/750 [==============================] - 4s 5ms/step - loss: 0.2859 - accuracy: 0.9204 - val_loss: 0.2809 - val_accuracy: 0.9222\n"
     ]
    }
   ],
   "source": [
    "training=model_0.fit(X_train,Y_train,batch_size=64,epochs=70,validation_split=0.2)"
   ]
  },
  {
   "cell_type": "code",
   "execution_count": 11,
   "id": "12b66834",
   "metadata": {},
   "outputs": [
    {
     "name": "stdout",
     "output_type": "stream",
     "text": [
      "dict_keys(['loss', 'accuracy', 'val_loss', 'val_accuracy'])\n"
     ]
    },
    {
     "data": {
      "image/png": "[encoded data removed]",
      "text/plain": [
       "<Figure size 432x288 with 1 Axes>"
      ]
     },
     "metadata": {
      "needs_background": "light"
     },
     "output_type": "display_data"
    },
    {
     "data": {
      "image/png": "[encoded data removed]",
      "text/plain": [
       "<Figure size 432x288 with 1 Axes>"
      ]
     },
     "metadata": {
      "needs_background": "light"
     },
     "output_type": "display_data"
    }
   ],
   "source": [
    "import matplotlib.pyplot as plt\n",
    "%matplotlib inline\n",
    "print(training.history.keys())\n",
    "plt.plot(training.history[\"accuracy\"])\n",
    "plt.plot(training.history[\"val_accuracy\"])\n",
    "plt.title(\"model accuaracy\")\n",
    "plt.xlabel('epoch')\n",
    "plt.ylabel('accuracy')\n",
    "plt.legend(['train','test'],loc='upper left')\n",
    "plt.show()\n",
    "\n",
    "plt.plot(training.history[\"loss\"])\n",
    "plt.plot(training.history[\"val_loss\"])\n",
    "plt.title(\"model loss\")\n",
    "plt.xlabel('epoch')\n",
    "plt.ylabel('loss')\n",
    "plt.legend(['train','test'],loc='upper left')\n",
    "plt.show()\n",
    "\n"
   ]
  },
  {
   "cell_type": "code",
   "execution_count": 12,
   "id": "862a6e70",
   "metadata": {},
   "outputs": [
    {
     "name": "stdout",
     "output_type": "stream",
     "text": [
      "313/313 [==============================] - 1s 3ms/step - loss: 0.2823 - accuracy: 0.9211\n",
      "test accuracy 0.9211000204086304\n"
     ]
    }
   ],
   "source": [
    "test_loss,test_acc=model_0.evaluate(X_test,Y_test)\n",
    "print(\"test accuracy\",test_acc)"
   ]
  },
  {
   "cell_type": "code",
   "execution_count": 13,
   "id": "b77d8248",
   "metadata": {},
   "outputs": [
    {
     "name": "stdout",
     "output_type": "stream",
     "text": [
      "Model: \"sequential\"\n",
      "_________________________________________________________________\n",
      " Layer (type)                Output Shape              Param #   \n",
      "=================================================================\n",
      " dense_layer (Dense)         (None, 10)                7850      \n",
      "                                                                 \n",
      "=================================================================\n",
      "Total params: 7,850\n",
      "Trainable params: 7,850\n",
      "Non-trainable params: 0\n",
      "_________________________________________________________________\n"
     ]
    }
   ],
   "source": [
    "model_0.summary()"
   ]
  },
  {
   "cell_type": "code",
   "execution_count": 14,
   "id": "0826e01e",
   "metadata": {},
   "outputs": [
    {
     "data": {
      "text/plain": [
       "{'name': 'sequential',\n",
       " 'layers': [{'class_name': 'InputLayer',\n",
       "   'config': {'batch_input_shape': (None, 784),\n",
       "    'dtype': 'float32',\n",
       "    'sparse': False,\n",
       "    'ragged': False,\n",
       "    'name': 'dense_layer_input'}},\n",
       "  {'class_name': 'Dense',\n",
       "   'config': {'name': 'dense_layer',\n",
       "    'trainable': True,\n",
       "    'batch_input_shape': (None, 784),\n",
       "    'dtype': 'float32',\n",
       "    'units': 10,\n",
       "    'activation': 'softmax',\n",
       "    'use_bias': True,\n",
       "    'kernel_initializer': {'class_name': 'GlorotUniform',\n",
       "     'config': {'seed': None}},\n",
       "    'bias_initializer': {'class_name': 'Zeros', 'config': {}},\n",
       "    'kernel_regularizer': None,\n",
       "    'bias_regularizer': None,\n",
       "    'activity_regularizer': None,\n",
       "    'kernel_constraint': None,\n",
       "    'bias_constraint': None}}]}"
      ]
     },
     "execution_count": 14,
     "metadata": {},
     "output_type": "execute_result"
    }
   ],
   "source": [
    "model_0.get_config()"
   ]
  },
  {
   "cell_type": "code",
   "execution_count": 15,
   "id": "9104cd32",
   "metadata": {},
   "outputs": [],
   "source": [
    "model_1=Sequential()\n",
    "N_hidden=64\n",
    "model_1.add(Dense(N_hidden,input_shape=(784,),name=\"dense_layer_1\",activation=\"relu\"))\n",
    "model_1.add(Dense(N_hidden,input_shape=(784,),name=\"dense_layer_2\",activation=\"relu\"))\n",
    "model_1.add(Dense(10,input_shape=(784,),name=\"dense_layer_3\",activation=\"softmax\"))"
   ]
  },
  {
   "cell_type": "code",
   "execution_count": 16,
   "id": "0f511697",
   "metadata": {},
   "outputs": [],
   "source": [
    "model_1.compile(optimizer='SGD',loss=\"categorical_crossentropy\",metrics=['accuracy'])"
   ]
  },
  {
   "cell_type": "code",
   "execution_count": 17,
   "id": "86a49242",
   "metadata": {},
   "outputs": [
    {
     "name": "stdout",
     "output_type": "stream",
     "text": [
      "Epoch 1/100\n",
      "750/750 [==============================] - 5s 6ms/step - loss: 1.0904 - accuracy: 0.7066 - val_loss: 0.4839 - val_accuracy: 0.8733\n",
      "Epoch 2/100\n",
      "750/750 [==============================] - 4s 6ms/step - loss: 0.4364 - accuracy: 0.8779 - val_loss: 0.3570 - val_accuracy: 0.8997\n",
      "Epoch 3/100\n",
      "750/750 [==============================] - 4s 6ms/step - loss: 0.3587 - accuracy: 0.8973 - val_loss: 0.3123 - val_accuracy: 0.9106\n",
      "Epoch 4/100\n",
      "750/750 [==============================] - 4s 6ms/step - loss: 0.3217 - accuracy: 0.9070 - val_loss: 0.2905 - val_accuracy: 0.9162\n",
      "Epoch 5/100\n",
      "750/750 [==============================] - 5s 6ms/step - loss: 0.2969 - accuracy: 0.9145 - val_loss: 0.2699 - val_accuracy: 0.9218\n",
      "Epoch 6/100\n",
      "750/750 [==============================] - 4s 5ms/step - loss: 0.2763 - accuracy: 0.9206 - val_loss: 0.2548 - val_accuracy: 0.9259\n",
      "Epoch 7/100\n",
      "750/750 [==============================] - 4s 6ms/step - loss: 0.2598 - accuracy: 0.9262 - val_loss: 0.2387 - val_accuracy: 0.9326\n",
      "Epoch 8/100\n",
      "750/750 [==============================] - 4s 5ms/step - loss: 0.2446 - accuracy: 0.9293 - val_loss: 0.2281 - val_accuracy: 0.9357\n",
      "Epoch 9/100\n",
      "750/750 [==============================] - 4s 6ms/step - loss: 0.2312 - accuracy: 0.9333 - val_loss: 0.2192 - val_accuracy: 0.9377\n",
      "Epoch 10/100\n",
      "750/750 [==============================] - 4s 6ms/step - loss: 0.2191 - accuracy: 0.9368 - val_loss: 0.2074 - val_accuracy: 0.9419\n",
      "Epoch 11/100\n",
      "750/750 [==============================] - 4s 5ms/step - loss: 0.2083 - accuracy: 0.9401 - val_loss: 0.1985 - val_accuracy: 0.9452\n",
      "Epoch 12/100\n",
      "750/750 [==============================] - 4s 5ms/step - loss: 0.1982 - accuracy: 0.9430 - val_loss: 0.1922 - val_accuracy: 0.9460\n",
      "Epoch 13/100\n",
      "750/750 [==============================] - 4s 5ms/step - loss: 0.1896 - accuracy: 0.9454 - val_loss: 0.1839 - val_accuracy: 0.9484\n",
      "Epoch 14/100\n",
      "750/750 [==============================] - 4s 5ms/step - loss: 0.1814 - accuracy: 0.9475 - val_loss: 0.1800 - val_accuracy: 0.9498\n",
      "Epoch 15/100\n",
      "750/750 [==============================] - 4s 5ms/step - loss: 0.1739 - accuracy: 0.9497 - val_loss: 0.1740 - val_accuracy: 0.9513\n",
      "Epoch 16/100\n",
      "750/750 [==============================] - 4s 5ms/step - loss: 0.1668 - accuracy: 0.9517 - val_loss: 0.1668 - val_accuracy: 0.9530\n",
      "Epoch 17/100\n",
      "750/750 [==============================] - 4s 5ms/step - loss: 0.1607 - accuracy: 0.9537 - val_loss: 0.1630 - val_accuracy: 0.9547\n",
      "Epoch 18/100\n",
      "750/750 [==============================] - 4s 6ms/step - loss: 0.1543 - accuracy: 0.9559 - val_loss: 0.1589 - val_accuracy: 0.9557\n",
      "Epoch 19/100\n",
      "750/750 [==============================] - 4s 5ms/step - loss: 0.1486 - accuracy: 0.9570 - val_loss: 0.1545 - val_accuracy: 0.9573\n",
      "Epoch 20/100\n",
      "750/750 [==============================] - 4s 5ms/step - loss: 0.1436 - accuracy: 0.9591 - val_loss: 0.1512 - val_accuracy: 0.9584\n",
      "Epoch 21/100\n",
      "750/750 [==============================] - 4s 5ms/step - loss: 0.1384 - accuracy: 0.9603 - val_loss: 0.1481 - val_accuracy: 0.9590\n",
      "Epoch 22/100\n",
      "750/750 [==============================] - 4s 5ms/step - loss: 0.1340 - accuracy: 0.9617 - val_loss: 0.1446 - val_accuracy: 0.9599\n",
      "Epoch 23/100\n",
      "750/750 [==============================] - 4s 5ms/step - loss: 0.1297 - accuracy: 0.9628 - val_loss: 0.1419 - val_accuracy: 0.9607\n",
      "Epoch 24/100\n",
      "750/750 [==============================] - 4s 5ms/step - loss: 0.1256 - accuracy: 0.9643 - val_loss: 0.1395 - val_accuracy: 0.9613\n",
      "Epoch 25/100\n",
      "750/750 [==============================] - 4s 5ms/step - loss: 0.1215 - accuracy: 0.9654 - val_loss: 0.1416 - val_accuracy: 0.9607\n",
      "Epoch 26/100\n",
      "750/750 [==============================] - 4s 5ms/step - loss: 0.1181 - accuracy: 0.9665 - val_loss: 0.1360 - val_accuracy: 0.9628\n",
      "Epoch 27/100\n",
      "750/750 [==============================] - 4s 5ms/step - loss: 0.1148 - accuracy: 0.9676 - val_loss: 0.1329 - val_accuracy: 0.9627\n",
      "Epoch 28/100\n",
      "750/750 [==============================] - 4s 6ms/step - loss: 0.1115 - accuracy: 0.9683 - val_loss: 0.1308 - val_accuracy: 0.9641\n",
      "Epoch 29/100\n",
      "750/750 [==============================] - 5s 6ms/step - loss: 0.1079 - accuracy: 0.9695 - val_loss: 0.1294 - val_accuracy: 0.9638\n",
      "Epoch 30/100\n",
      "750/750 [==============================] - 4s 6ms/step - loss: 0.1051 - accuracy: 0.9704 - val_loss: 0.1270 - val_accuracy: 0.9645\n",
      "Epoch 31/100\n",
      "750/750 [==============================] - 4s 5ms/step - loss: 0.1025 - accuracy: 0.9710 - val_loss: 0.1261 - val_accuracy: 0.9648\n",
      "Epoch 32/100\n",
      "750/750 [==============================] - 4s 5ms/step - loss: 0.0995 - accuracy: 0.9717 - val_loss: 0.1238 - val_accuracy: 0.9662\n",
      "Epoch 33/100\n",
      "750/750 [==============================] - 4s 5ms/step - loss: 0.0968 - accuracy: 0.9730 - val_loss: 0.1237 - val_accuracy: 0.9655\n",
      "Epoch 34/100\n",
      "750/750 [==============================] - 4s 6ms/step - loss: 0.0945 - accuracy: 0.9734 - val_loss: 0.1215 - val_accuracy: 0.9671\n",
      "Epoch 35/100\n",
      "750/750 [==============================] - 4s 6ms/step - loss: 0.0921 - accuracy: 0.9735 - val_loss: 0.1191 - val_accuracy: 0.9682\n",
      "Epoch 36/100\n",
      "750/750 [==============================] - 4s 6ms/step - loss: 0.0896 - accuracy: 0.9750 - val_loss: 0.1184 - val_accuracy: 0.9669\n",
      "Epoch 37/100\n",
      "750/750 [==============================] - 4s 5ms/step - loss: 0.0874 - accuracy: 0.9756 - val_loss: 0.1181 - val_accuracy: 0.9664\n",
      "Epoch 38/100\n",
      "750/750 [==============================] - 4s 5ms/step - loss: 0.0854 - accuracy: 0.9763 - val_loss: 0.1169 - val_accuracy: 0.9671\n",
      "Epoch 39/100\n",
      "750/750 [==============================] - 4s 5ms/step - loss: 0.0835 - accuracy: 0.9761 - val_loss: 0.1165 - val_accuracy: 0.9691\n",
      "Epoch 40/100\n",
      "750/750 [==============================] - 4s 5ms/step - loss: 0.0814 - accuracy: 0.9776 - val_loss: 0.1154 - val_accuracy: 0.9680\n",
      "Epoch 41/100\n",
      "750/750 [==============================] - 4s 5ms/step - loss: 0.0795 - accuracy: 0.9778 - val_loss: 0.1127 - val_accuracy: 0.9695\n",
      "Epoch 42/100\n",
      "750/750 [==============================] - 4s 5ms/step - loss: 0.0781 - accuracy: 0.9781 - val_loss: 0.1124 - val_accuracy: 0.9680\n",
      "Epoch 43/100\n",
      "750/750 [==============================] - 4s 5ms/step - loss: 0.0761 - accuracy: 0.9794 - val_loss: 0.1112 - val_accuracy: 0.9692\n",
      "Epoch 44/100\n",
      "750/750 [==============================] - 4s 5ms/step - loss: 0.0742 - accuracy: 0.9791 - val_loss: 0.1109 - val_accuracy: 0.9696\n",
      "Epoch 45/100\n",
      "750/750 [==============================] - 4s 5ms/step - loss: 0.0730 - accuracy: 0.9796 - val_loss: 0.1099 - val_accuracy: 0.9693\n",
      "Epoch 46/100\n",
      "750/750 [==============================] - 4s 5ms/step - loss: 0.0713 - accuracy: 0.9801 - val_loss: 0.1094 - val_accuracy: 0.9698\n",
      "Epoch 47/100\n",
      "750/750 [==============================] - 4s 5ms/step - loss: 0.0696 - accuracy: 0.9803 - val_loss: 0.1098 - val_accuracy: 0.9698\n",
      "Epoch 48/100\n",
      "750/750 [==============================] - 3s 4ms/step - loss: 0.0680 - accuracy: 0.9811 - val_loss: 0.1091 - val_accuracy: 0.9694\n",
      "Epoch 49/100\n",
      "750/750 [==============================] - 2s 2ms/step - loss: 0.0668 - accuracy: 0.9815 - val_loss: 0.1074 - val_accuracy: 0.9703\n",
      "Epoch 50/100\n",
      "750/750 [==============================] - 2s 2ms/step - loss: 0.0653 - accuracy: 0.9819 - val_loss: 0.1069 - val_accuracy: 0.9700\n",
      "Epoch 51/100\n",
      "750/750 [==============================] - 2s 2ms/step - loss: 0.0639 - accuracy: 0.9823 - val_loss: 0.1071 - val_accuracy: 0.9690\n",
      "Epoch 52/100\n",
      "750/750 [==============================] - 2s 2ms/step - loss: 0.0627 - accuracy: 0.9826 - val_loss: 0.1059 - val_accuracy: 0.9698\n",
      "Epoch 53/100\n",
      "750/750 [==============================] - 2s 2ms/step - loss: 0.0612 - accuracy: 0.9835 - val_loss: 0.1042 - val_accuracy: 0.9709\n",
      "Epoch 54/100\n",
      "750/750 [==============================] - 2s 2ms/step - loss: 0.0602 - accuracy: 0.9837 - val_loss: 0.1051 - val_accuracy: 0.9706\n",
      "Epoch 55/100\n",
      "750/750 [==============================] - 1s 2ms/step - loss: 0.0590 - accuracy: 0.9841 - val_loss: 0.1033 - val_accuracy: 0.9715\n",
      "Epoch 56/100\n",
      "750/750 [==============================] - 1s 2ms/step - loss: 0.0577 - accuracy: 0.9843 - val_loss: 0.1038 - val_accuracy: 0.9716\n",
      "Epoch 57/100\n",
      "750/750 [==============================] - 2s 3ms/step - loss: 0.0565 - accuracy: 0.9854 - val_loss: 0.1040 - val_accuracy: 0.9715\n"
     ]
    },
    {
     "name": "stdout",
     "output_type": "stream",
     "text": [
      "Epoch 58/100\n",
      "750/750 [==============================] - 3s 3ms/step - loss: 0.0554 - accuracy: 0.9851 - val_loss: 0.1013 - val_accuracy: 0.9720\n",
      "Epoch 59/100\n",
      "750/750 [==============================] - 2s 3ms/step - loss: 0.0545 - accuracy: 0.9855 - val_loss: 0.1033 - val_accuracy: 0.9714\n",
      "Epoch 60/100\n",
      "750/750 [==============================] - 2s 2ms/step - loss: 0.0533 - accuracy: 0.9858 - val_loss: 0.1010 - val_accuracy: 0.9717\n",
      "Epoch 61/100\n",
      "750/750 [==============================] - 2s 2ms/step - loss: 0.0521 - accuracy: 0.9860 - val_loss: 0.1027 - val_accuracy: 0.9715\n",
      "Epoch 62/100\n",
      "750/750 [==============================] - 1s 2ms/step - loss: 0.0514 - accuracy: 0.9861 - val_loss: 0.1009 - val_accuracy: 0.9711\n",
      "Epoch 63/100\n",
      "750/750 [==============================] - 2s 3ms/step - loss: 0.0502 - accuracy: 0.9866 - val_loss: 0.1023 - val_accuracy: 0.9708\n",
      "Epoch 64/100\n",
      "750/750 [==============================] - 1s 2ms/step - loss: 0.0492 - accuracy: 0.9875 - val_loss: 0.1009 - val_accuracy: 0.9713\n",
      "Epoch 65/100\n",
      "750/750 [==============================] - 2s 3ms/step - loss: 0.0484 - accuracy: 0.9874 - val_loss: 0.1011 - val_accuracy: 0.9708\n",
      "Epoch 66/100\n",
      "750/750 [==============================] - 3s 4ms/step - loss: 0.0475 - accuracy: 0.9877 - val_loss: 0.0996 - val_accuracy: 0.9722\n",
      "Epoch 67/100\n",
      "750/750 [==============================] - 2s 2ms/step - loss: 0.0465 - accuracy: 0.9881 - val_loss: 0.1013 - val_accuracy: 0.9719\n",
      "Epoch 68/100\n",
      "750/750 [==============================] - 3s 4ms/step - loss: 0.0455 - accuracy: 0.9883 - val_loss: 0.0992 - val_accuracy: 0.9715\n",
      "Epoch 69/100\n",
      "750/750 [==============================] - 2s 2ms/step - loss: 0.0448 - accuracy: 0.9883 - val_loss: 0.1003 - val_accuracy: 0.9717\n",
      "Epoch 70/100\n",
      "750/750 [==============================] - 2s 3ms/step - loss: 0.0441 - accuracy: 0.9885 - val_loss: 0.1001 - val_accuracy: 0.9712\n",
      "Epoch 71/100\n",
      "750/750 [==============================] - 2s 2ms/step - loss: 0.0432 - accuracy: 0.9890 - val_loss: 0.1028 - val_accuracy: 0.9718\n",
      "Epoch 72/100\n",
      "750/750 [==============================] - 3s 3ms/step - loss: 0.0423 - accuracy: 0.9893 - val_loss: 0.1010 - val_accuracy: 0.9712\n",
      "Epoch 73/100\n",
      "750/750 [==============================] - 2s 3ms/step - loss: 0.0417 - accuracy: 0.9895 - val_loss: 0.1020 - val_accuracy: 0.9722\n",
      "Epoch 74/100\n",
      "750/750 [==============================] - 2s 3ms/step - loss: 0.0409 - accuracy: 0.9898 - val_loss: 0.0993 - val_accuracy: 0.9725\n",
      "Epoch 75/100\n",
      "750/750 [==============================] - 3s 4ms/step - loss: 0.0402 - accuracy: 0.9897 - val_loss: 0.0995 - val_accuracy: 0.9724\n",
      "Epoch 76/100\n",
      "750/750 [==============================] - 2s 3ms/step - loss: 0.0395 - accuracy: 0.9902 - val_loss: 0.1003 - val_accuracy: 0.9722\n",
      "Epoch 77/100\n",
      "750/750 [==============================] - 2s 2ms/step - loss: 0.0387 - accuracy: 0.9904 - val_loss: 0.1001 - val_accuracy: 0.9724\n",
      "Epoch 78/100\n",
      "750/750 [==============================] - 2s 3ms/step - loss: 0.0380 - accuracy: 0.9906 - val_loss: 0.0994 - val_accuracy: 0.9720\n",
      "Epoch 79/100\n",
      "750/750 [==============================] - 2s 2ms/step - loss: 0.0375 - accuracy: 0.9909 - val_loss: 0.0993 - val_accuracy: 0.9722\n",
      "Epoch 80/100\n",
      "750/750 [==============================] - 3s 4ms/step - loss: 0.0368 - accuracy: 0.9911 - val_loss: 0.0988 - val_accuracy: 0.9729\n",
      "Epoch 81/100\n",
      "750/750 [==============================] - 2s 2ms/step - loss: 0.0360 - accuracy: 0.9912 - val_loss: 0.0994 - val_accuracy: 0.9721\n",
      "Epoch 82/100\n",
      "750/750 [==============================] - 2s 2ms/step - loss: 0.0355 - accuracy: 0.9916 - val_loss: 0.1002 - val_accuracy: 0.9724\n",
      "Epoch 83/100\n",
      "750/750 [==============================] - 2s 2ms/step - loss: 0.0348 - accuracy: 0.9914 - val_loss: 0.0988 - val_accuracy: 0.9717\n",
      "Epoch 84/100\n",
      "750/750 [==============================] - 2s 3ms/step - loss: 0.0342 - accuracy: 0.9918 - val_loss: 0.0999 - val_accuracy: 0.9726\n",
      "Epoch 85/100\n",
      "750/750 [==============================] - 2s 3ms/step - loss: 0.0335 - accuracy: 0.9921 - val_loss: 0.0979 - val_accuracy: 0.9730\n",
      "Epoch 86/100\n",
      "750/750 [==============================] - 3s 5ms/step - loss: 0.0331 - accuracy: 0.9921 - val_loss: 0.0985 - val_accuracy: 0.9735\n",
      "Epoch 87/100\n",
      "750/750 [==============================] - 2s 3ms/step - loss: 0.0326 - accuracy: 0.9922 - val_loss: 0.0992 - val_accuracy: 0.9730\n",
      "Epoch 88/100\n",
      "750/750 [==============================] - 2s 2ms/step - loss: 0.0318 - accuracy: 0.9926 - val_loss: 0.0995 - val_accuracy: 0.9730\n",
      "Epoch 89/100\n",
      "750/750 [==============================] - 2s 3ms/step - loss: 0.0313 - accuracy: 0.9927 - val_loss: 0.0996 - val_accuracy: 0.9729\n",
      "Epoch 90/100\n",
      "750/750 [==============================] - 3s 4ms/step - loss: 0.0309 - accuracy: 0.9929 - val_loss: 0.0985 - val_accuracy: 0.9732\n",
      "Epoch 91/100\n",
      "750/750 [==============================] - 3s 4ms/step - loss: 0.0300 - accuracy: 0.9932 - val_loss: 0.0989 - val_accuracy: 0.9732\n",
      "Epoch 92/100\n",
      "750/750 [==============================] - 2s 2ms/step - loss: 0.0297 - accuracy: 0.9933 - val_loss: 0.0996 - val_accuracy: 0.9732\n",
      "Epoch 93/100\n",
      "750/750 [==============================] - 2s 2ms/step - loss: 0.0291 - accuracy: 0.9935 - val_loss: 0.0986 - val_accuracy: 0.9731\n",
      "Epoch 94/100\n",
      "750/750 [==============================] - 4s 5ms/step - loss: 0.0287 - accuracy: 0.9938 - val_loss: 0.0995 - val_accuracy: 0.9727\n",
      "Epoch 95/100\n",
      "750/750 [==============================] - 2s 2ms/step - loss: 0.0281 - accuracy: 0.9938 - val_loss: 0.1008 - val_accuracy: 0.9722\n",
      "Epoch 96/100\n",
      "750/750 [==============================] - 2s 3ms/step - loss: 0.0277 - accuracy: 0.9937 - val_loss: 0.0992 - val_accuracy: 0.9737\n",
      "Epoch 97/100\n",
      "750/750 [==============================] - 2s 2ms/step - loss: 0.0271 - accuracy: 0.9940 - val_loss: 0.0996 - val_accuracy: 0.9731\n",
      "Epoch 98/100\n",
      "750/750 [==============================] - 2s 2ms/step - loss: 0.0268 - accuracy: 0.9943 - val_loss: 0.0998 - val_accuracy: 0.9736\n",
      "Epoch 99/100\n",
      "750/750 [==============================] - 3s 4ms/step - loss: 0.0263 - accuracy: 0.9945 - val_loss: 0.0992 - val_accuracy: 0.9735\n",
      "Epoch 100/100\n",
      "750/750 [==============================] - 3s 3ms/step - loss: 0.0258 - accuracy: 0.9944 - val_loss: 0.1018 - val_accuracy: 0.9729\n"
     ]
    }
   ],
   "source": [
    "training=model_1.fit(X_train,Y_train,batch_size=64,epochs=100,validation_split=0.2)"
   ]
  },
  {
   "cell_type": "code",
   "execution_count": 18,
   "id": "a936c290",
   "metadata": {},
   "outputs": [
    {
     "name": "stdout",
     "output_type": "stream",
     "text": [
      "dict_keys(['loss', 'accuracy', 'val_loss', 'val_accuracy'])\n"
     ]
    },
    {
     "data": {
      "image/png": "[encoded data removed]",
      "text/plain": [
       "<Figure size 432x288 with 1 Axes>"
      ]
     },
     "metadata": {
      "needs_background": "light"
     },
     "output_type": "display_data"
    },
    {
     "data": {
      "image/png": "[encoded data removed]",
      "text/plain": [
       "<Figure size 432x288 with 1 Axes>"
      ]
     },
     "metadata": {
      "needs_background": "light"
     },
     "output_type": "display_data"
    }
   ],
   "source": [
    "import matplotlib.pyplot as plt\n",
    "%matplotlib inline\n",
    "print(training.history.keys())\n",
    "plt.plot(training.history[\"accuracy\"])\n",
    "plt.plot(training.history[\"val_accuracy\"])\n",
    "plt.title(\"model accuaracy\")\n",
    "plt.xlabel('epoch')\n",
    "plt.ylabel('accuracy')\n",
    "plt.legend(['train','test'],loc='upper left')\n",
    "plt.show()\n",
    "\n",
    "plt.plot(training.history[\"loss\"])\n",
    "plt.plot(training.history[\"val_loss\"])\n",
    "plt.title(\"model loss\")\n",
    "plt.xlabel('epoch')\n",
    "plt.ylabel('loss')\n",
    "plt.legend(['train','test'],loc='upper left')\n",
    "plt.show()"
   ]
  },
  {
   "cell_type": "code",
   "execution_count": 20,
   "id": "8de3bd89",
   "metadata": {},
   "outputs": [
    {
     "name": "stdout",
     "output_type": "stream",
     "text": [
      "313/313 [==============================] - 1s 2ms/step - loss: 0.0926 - accuracy: 0.9748\n",
      "test accuracy 0.9747999906539917\n"
     ]
    }
   ],
   "source": [
    "test_loss,test_acc=model_1.evaluate(X_test,Y_test)\n",
    "print(\"test accuracy\",test_acc)"
   ]
  },
  {
   "cell_type": "code",
   "execution_count": 21,
   "id": "711dc9c0",
   "metadata": {},
   "outputs": [
    {
     "data": {
      "text/plain": [
       "<bound method Model.summary of <keras.engine.sequential.Sequential object at 0x000001432713E5E0>>"
      ]
     },
     "execution_count": 21,
     "metadata": {},
     "output_type": "execute_result"
    }
   ],
   "source": [
    "model_1.summary"
   ]
  },
  {
   "cell_type": "code",
   "execution_count": 22,
   "id": "a6077449",
   "metadata": {},
   "outputs": [
    {
     "data": {
      "text/plain": [
       "[<tf.Variable 'dense_layer_1/kernel:0' shape=(784, 64) dtype=float32, numpy=\n",
       " array([[ 0.01596418,  0.0550211 , -0.00643941, ..., -0.03942831,\n",
       "         -0.00540578, -0.03475922],\n",
       "        [ 0.05545317, -0.07506244,  0.0785247 , ..., -0.06651407,\n",
       "         -0.06976362,  0.08108643],\n",
       "        [ 0.03747854,  0.05316929,  0.04396606, ...,  0.06483483,\n",
       "          0.02457223,  0.00125682],\n",
       "        ...,\n",
       "        [ 0.08079883, -0.04989344,  0.03710695, ..., -0.04748692,\n",
       "         -0.03161377, -0.03583471],\n",
       "        [-0.00543988, -0.01090974, -0.00528041, ...,  0.0826792 ,\n",
       "         -0.06828639, -0.07101601],\n",
       "        [-0.06885502, -0.01667053, -0.07118747, ...,  0.00325361,\n",
       "          0.05662694,  0.07259945]], dtype=float32)>,\n",
       " <tf.Variable 'dense_layer_1/bias:0' shape=(64,) dtype=float32, numpy=\n",
       " array([-0.0917977 , -0.1220986 ,  0.1268883 ,  0.05252893,  0.03151762,\n",
       "         0.08490763, -0.1468155 , -0.0970294 ,  0.09216779, -0.06146974,\n",
       "        -0.00679533, -0.02760994, -0.04814223,  0.05748309,  0.277297  ,\n",
       "         0.1173629 ,  0.04765677, -0.00853293,  0.02921491,  0.14699733,\n",
       "        -0.07195645, -0.09586051, -0.13445924,  0.01342876, -0.1383373 ,\n",
       "         0.01618547,  0.00984561, -0.02033769,  0.19317238,  0.12934369,\n",
       "        -0.00083318,  0.06344521, -0.19654559, -0.07232275, -0.02907348,\n",
       "         0.17564058,  0.05786284, -0.09308652,  0.00229118, -0.0204012 ,\n",
       "         0.13246132,  0.0154082 ,  0.01375812,  0.04886942,  0.03025142,\n",
       "        -0.07294681, -0.06042305, -0.07290776,  0.05229886,  0.0822365 ,\n",
       "         0.00434652,  0.04924066,  0.02197768,  0.08353399,  0.25564674,\n",
       "         0.20363657,  0.01920116, -0.14414632,  0.16006956, -0.1413214 ,\n",
       "         0.00555684,  0.10616345, -0.00096944, -0.06217406], dtype=float32)>,\n",
       " <tf.Variable 'dense_layer_2/kernel:0' shape=(64, 64) dtype=float32, numpy=\n",
       " array([[ 0.21412039, -0.3362739 , -0.10131285, ..., -0.20658675,\n",
       "         -0.10023927,  0.02600896],\n",
       "        [ 0.13635577, -0.02345152,  0.06189755, ...,  0.14162575,\n",
       "         -0.03131251,  0.3680205 ],\n",
       "        [-0.1383059 , -0.163865  ,  0.01449778, ..., -0.0129808 ,\n",
       "          0.00535623, -0.26025558],\n",
       "        ...,\n",
       "        [ 0.13824844, -0.11088154,  0.08520602, ...,  0.12012368,\n",
       "          0.03537736,  0.00808351],\n",
       "        [-0.2487341 ,  0.42457655, -0.3568583 , ..., -0.09438944,\n",
       "         -0.20686963, -0.38161063],\n",
       "        [-0.38444787, -0.09846186, -0.18537346, ...,  0.03247709,\n",
       "         -0.16972895,  0.24015124]], dtype=float32)>,\n",
       " <tf.Variable 'dense_layer_2/bias:0' shape=(64,) dtype=float32, numpy=\n",
       " array([ 0.09709486,  0.03473229,  0.04723313, -0.0033238 ,  0.11431672,\n",
       "         0.00302811,  0.10571661,  0.04265079,  0.00707025, -0.00661752,\n",
       "         0.06741852, -0.00900686, -0.00045312, -0.00416838,  0.00707364,\n",
       "         0.05225424,  0.05967474,  0.0138139 ,  0.1002432 ,  0.00268638,\n",
       "        -0.05478095,  0.03341348, -0.00634343,  0.01596992,  0.04329646,\n",
       "        -0.00037507,  0.04760925,  0.07612921,  0.01703507, -0.02042714,\n",
       "         0.00324368,  0.01833406, -0.00144208,  0.12072445,  0.05295368,\n",
       "         0.07120417,  0.03200857, -0.01551923,  0.0927005 ,  0.07694101,\n",
       "         0.08932789,  0.0446836 ,  0.12386291, -0.00321474, -0.01255425,\n",
       "         0.06709103, -0.02234326, -0.02561953, -0.00299294, -0.01825016,\n",
       "         0.04197725,  0.02470704,  0.07991245,  0.04517827,  0.04832042,\n",
       "         0.01785025, -0.04016729, -0.03890338, -0.00043385,  0.00067227,\n",
       "        -0.00666668,  0.00724945, -0.03118054,  0.12354538], dtype=float32)>,\n",
       " <tf.Variable 'dense_layer_3/kernel:0' shape=(64, 10) dtype=float32, numpy=\n",
       " array([[-0.24206355,  0.44635344, -0.17802438, -0.6682041 ,  0.14561634,\n",
       "          0.22902866,  0.20178281, -0.28422374,  0.507977  ,  0.4124286 ],\n",
       "        [ 0.27816656, -0.24548964,  0.8204078 , -0.28500652, -0.4639389 ,\n",
       "          0.0957635 , -0.21640444, -0.30540806, -0.26474416,  0.12984742],\n",
       "        [-0.0245516 ,  0.39074934, -0.6392916 , -0.65498614,  0.04042468,\n",
       "          0.32617804, -0.06689184, -0.4231588 ,  0.7282353 , -0.20494771],\n",
       "        [-0.10638392,  0.3053523 ,  0.42720577,  0.38423002,  0.47538787,\n",
       "          0.07476921, -0.12738746,  0.39400637, -0.8700684 , -0.05500682],\n",
       "        [-0.07613561, -0.15153155, -0.1439358 ,  0.30309394,  0.09346247,\n",
       "          0.6685262 , -0.20483257,  0.77457726, -0.56323344, -0.91066533],\n",
       "        [-0.12261344, -0.2649788 ,  0.7885795 , -0.01140628,  0.64207286,\n",
       "         -0.32539812, -0.20190282, -0.233322  ,  0.21207675, -0.83534944],\n",
       "        [ 0.43959337, -0.37763095,  0.56436956, -0.19157878, -0.88047945,\n",
       "          0.43725857,  0.43089977, -0.45745543,  0.10838985, -0.04136766],\n",
       "        [ 0.23873548, -0.43423784,  0.17191468, -0.13151893,  0.14950722,\n",
       "          0.14617668,  0.863445  , -0.10761388,  0.07348536, -0.7371895 ],\n",
       "        [-0.15503994,  0.4875217 , -0.45153153,  0.07476775, -0.1689233 ,\n",
       "          0.6517776 , -0.3063181 ,  0.5226677 ,  0.11025673, -0.20659475],\n",
       "        [ 0.3852504 , -0.46635193,  0.3830023 ,  0.3582139 , -0.03328917,\n",
       "         -0.16399752, -0.08012155, -0.0336099 , -0.2254764 , -0.29814348],\n",
       "        [ 0.56415445,  0.3117072 ,  0.05916061, -0.24730778, -0.36519277,\n",
       "         -0.23869856, -0.36391383,  0.4016359 , -0.39618304,  0.11005736],\n",
       "        [-0.13104944, -0.17681807,  0.12987675,  0.01723434, -0.07391243,\n",
       "         -0.07010763,  0.22001621, -0.23084809,  0.02839187,  0.22552247],\n",
       "        [ 0.17366222,  0.1002097 , -0.12966496,  0.15649405,  0.28016064,\n",
       "         -0.19020663,  0.08431315, -0.20128624,  0.02007007, -0.22349702],\n",
       "        [ 0.20842598, -0.4758283 , -0.65390766,  0.18132621,  0.4100432 ,\n",
       "         -0.20304306, -0.47679108, -0.1782316 ,  0.08186075,  0.80706227],\n",
       "        [ 0.8311978 , -0.5040256 , -0.31019297,  0.18225434,  0.16850609,\n",
       "         -0.50857574,  0.38080415, -0.57956594, -0.39962256,  0.20965706],\n",
       "        [-0.16738513, -0.05635878,  0.10260693,  0.04363344, -0.5680058 ,\n",
       "         -0.5087379 ,  0.27597156,  0.18049863, -0.36456445,  0.57779545],\n",
       "        [ 0.56087327, -0.26738745,  0.354351  , -0.56984115, -0.2851818 ,\n",
       "         -0.20943439, -0.34624586,  0.5124348 ,  0.48042628, -0.56607443],\n",
       "        [-0.13507071,  0.46398467,  0.49932715,  0.3480738 ,  0.30338576,\n",
       "         -1.0724827 , -0.19537823,  0.27186632, -0.3609786 ,  0.2502693 ],\n",
       "        [-0.45754144,  0.26373905,  0.27529532, -0.19357052,  0.7167188 ,\n",
       "          0.3807467 ,  0.4436274 , -0.31974506, -0.23696075, -0.7762081 ],\n",
       "        [-0.2619912 , -0.16395663, -0.25268748,  0.08828904, -0.12632234,\n",
       "         -0.28548515,  0.16563126,  0.04644354,  0.0089543 ,  0.14967446],\n",
       "        [-0.06977098,  0.37286952,  0.40584335, -0.30018094, -0.19780503,\n",
       "         -0.29657626, -0.36123228,  0.8573511 ,  0.28876835, -0.8059991 ],\n",
       "        [-0.07934809,  0.24775523,  0.12388042, -0.58276427,  0.09560239,\n",
       "          0.4873668 , -0.09688152,  0.2936261 , -0.12760726,  0.3561864 ],\n",
       "        [ 0.18958925,  0.16570975,  0.35238934,  0.21408023, -0.01975014,\n",
       "          0.04064381, -0.10893615,  0.15491971,  0.23719041,  0.00211817],\n",
       "        [-0.293135  ,  0.08456914, -0.52362454,  0.49152404, -0.1233751 ,\n",
       "          0.74774426,  0.174513  , -0.4257886 , -0.63428515,  0.5334739 ],\n",
       "        [-0.05018685,  0.00284629,  0.13210735, -0.23737052, -0.43253294,\n",
       "          0.16481252,  0.50720894,  0.27342665,  0.02596773, -0.04706332],\n",
       "        [-0.24279813,  0.17007065,  0.11367901,  0.27521393,  0.19359428,\n",
       "         -0.12696174, -0.19749442,  0.07428277,  0.02844363, -0.02345658],\n",
       "        [ 0.23130617,  0.13785428, -0.78857666, -0.7035703 ,  0.47421235,\n",
       "         -0.13808255,  0.6635251 , -0.08605633,  0.06273798,  0.38061523],\n",
       "        [ 0.02778133, -0.21589015,  0.47583163, -0.41453147, -0.31108558,\n",
       "         -0.06770608, -0.68101954,  0.65201664, -0.17160113,  0.26870388],\n",
       "        [-0.3070969 , -0.345159  ,  0.51071525, -0.03396792,  0.18531601,\n",
       "         -0.58938164, -0.29019782, -0.45225793, -0.1422607 ,  0.5546118 ],\n",
       "        [-0.38788575, -0.16158524, -0.21483494,  0.6891112 , -0.21248291,\n",
       "          0.50169146, -0.42759296, -0.33725512,  0.20442037,  0.24907546],\n",
       "        [-0.5292474 ,  0.6872239 ,  0.29981858,  0.24599217,  0.08385513,\n",
       "         -0.8357863 , -0.04554147,  0.5108668 ,  0.35539007, -0.61837894],\n",
       "        [ 0.18796329, -0.09383717, -0.33285272,  0.3151241 ,  0.37456456,\n",
       "          0.3583665 , -0.50577223,  0.30290747,  0.26429817,  0.30325636],\n",
       "        [-0.2809839 ,  0.11398239,  0.19518445,  0.21794634, -0.04003477,\n",
       "         -0.04170163, -0.1847882 , -0.01051492, -0.08110087, -0.28240845],\n",
       "        [-0.40268314,  0.18433455, -0.5106047 , -0.26987964,  0.3597917 ,\n",
       "          0.27308258, -0.25823808,  0.07091574,  0.15730107,  0.25798312],\n",
       "        [-0.3655599 , -0.7110931 , -0.30956653,  0.32501328,  0.28352806,\n",
       "         -0.1012801 , -0.8015642 ,  0.3370058 ,  0.5090703 ,  0.8888672 ],\n",
       "        [-0.11194515, -0.3669859 ,  0.2272108 , -0.22394112,  0.02145441,\n",
       "          0.25102848,  0.38273418, -0.7250315 ,  0.13398139,  0.4995988 ],\n",
       "        [-0.27688468,  0.41523382, -0.10923932, -0.62658614,  0.82230955,\n",
       "          0.23516196,  0.10544606, -0.2239633 , -0.30458328, -0.17757602],\n",
       "        [-0.01062687, -0.14209308,  0.09548032,  0.17579935,  0.08722637,\n",
       "          0.11496518, -0.1680739 ,  0.15274844,  0.2532356 , -0.0116515 ],\n",
       "        [ 0.5021593 ,  0.2498785 , -0.05536483, -0.81598556,  0.07031143,\n",
       "         -0.20342717,  0.51702   ,  0.12385912,  0.40032998,  0.16606048],\n",
       "        [-0.29648358,  0.20846027,  0.2804997 , -0.12738122, -0.27619132,\n",
       "          0.23469669, -0.08832245,  0.31182373,  0.48329544, -0.09468669],\n",
       "        [-0.4679605 , -0.12131044,  0.43622994,  0.04205985,  0.62818414,\n",
       "          0.15482904,  0.13620108, -0.57132894,  0.5502445 , -0.01628224],\n",
       "        [-0.37873188,  0.6861681 ,  0.25815955,  0.6563791 , -0.41458187,\n",
       "         -0.14949521, -0.40236035, -0.25045264, -0.26606494, -0.55661166],\n",
       "        [-0.35049516, -0.5332503 ,  0.12031996,  0.26441455, -0.22851849,\n",
       "         -0.4090257 ,  0.2756721 , -0.61956215,  0.8811995 ,  0.15940407],\n",
       "        [ 0.13184524,  0.35905188, -0.36134395, -0.05067357,  0.5614953 ,\n",
       "         -0.98065674,  0.24668762,  0.721573  , -0.396987  ,  0.0339683 ],\n",
       "        [-0.2708361 ,  0.0622451 ,  0.14657941, -0.18939355, -0.02656383,\n",
       "          0.05331275,  0.18554018, -0.24472551,  0.27412194, -0.16656274],\n",
       "        [-0.180089  , -0.42881954, -0.3274439 ,  0.21031006, -0.89573085,\n",
       "          0.41417053,  0.51976377,  0.3110399 ,  0.15127367,  0.1607381 ],\n",
       "        [-0.2531697 , -0.11458974, -0.11722668,  0.21172255, -0.00515708,\n",
       "         -0.03143981,  0.02966607,  0.19239731, -0.04429699,  0.11128719],\n",
       "        [ 0.16339083,  0.24086535,  0.58883554,  0.09139697,  0.18470493,\n",
       "         -0.17220981,  0.05097666, -0.09316119, -0.47591978, -0.5538294 ],\n",
       "        [ 0.3767073 ,  0.35359648,  0.17210712, -0.0065486 , -0.2947618 ,\n",
       "          0.30808595,  0.41021407, -0.32035208, -0.41192904, -0.33716428],\n",
       "        [-0.06909291, -0.15546025,  0.1973382 , -0.21570379, -0.08340064,\n",
       "          0.20892864,  0.21471992,  0.01165438,  0.09075996,  0.1764686 ],\n",
       "        [-0.358426  ,  0.05095253, -0.05940825, -0.06156593, -0.316426  ,\n",
       "          0.8841701 ,  0.5954415 , -0.46928382, -0.7862355 ,  0.45850417],\n",
       "        [-0.3456479 , -0.03987535,  0.5208443 ,  0.4766744 , -0.33933344,\n",
       "          0.2216434 , -0.19367553,  0.28788248, -0.2071658 , -0.01852656],\n",
       "        [-0.59897465, -0.43074694, -0.11985793, -0.02537102,  0.08108512,\n",
       "          0.774668  , -0.51056814,  0.03245908, -0.24935804,  0.4588951 ],\n",
       "        [-0.02757206,  0.40064502, -0.0350098 , -0.18809436, -0.18270811,\n",
       "          0.19551219,  0.39385182,  0.20124231,  0.07671475, -0.4917475 ],\n",
       "        [ 0.14785402, -0.34976503,  0.24675408,  0.52702385, -0.13564478,\n",
       "          0.15751137, -0.196068  ,  0.29850525,  0.21915048, -0.03985419],\n",
       "        [ 0.2789451 ,  0.2841825 , -0.06585288,  0.66710705, -0.85951984,\n",
       "          0.35023493, -0.10751339, -0.5673176 ,  0.11201001,  0.1811094 ],\n",
       "        [ 0.02683595, -0.1631592 , -0.45832804,  0.36192843, -0.00354247,\n",
       "         -0.28197163,  0.09330778,  0.01821357, -0.19543152, -0.24012522],\n",
       "        [-0.02359391, -0.18738379, -0.2842919 ,  0.8343517 , -0.13961054,\n",
       "          0.41593054, -0.17795742,  0.09217955, -0.16577904, -0.28763473],\n",
       "        [-0.1281282 ,  0.54409516,  0.20319115,  0.05289613,  0.19616868,\n",
       "         -0.5094347 , -0.347553  ,  0.0525289 , -0.04638975, -0.0855877 ],\n",
       "        [-0.21946637, -0.10559946, -0.09978147, -0.05399113, -0.23891541,\n",
       "          0.11772401, -0.17491396,  0.12281413,  0.20056309, -0.26633447],\n",
       "        [ 0.03906735,  0.09820443, -0.27579048,  0.06621187, -0.09923401,\n",
       "          0.13395368,  0.15386541,  0.01944312,  0.26436573, -0.03321173],\n",
       "        [-0.18143974,  0.15731196,  0.05236796,  0.07133177, -0.07227723,\n",
       "         -0.17414181, -0.14832525,  0.15671441, -0.19669512,  0.09428056],\n",
       "        [ 0.114658  , -0.263533  ,  0.26733077, -0.16000362,  0.17236735,\n",
       "         -0.08945322, -0.17704375,  0.01225228, -0.14233668, -0.24144155],\n",
       "        [ 0.30214754, -0.30044267, -0.18505524,  0.51430243, -0.6899744 ,\n",
       "          0.6878637 , -0.13735801, -0.75096554,  0.64119685, -0.01805094]],\n",
       "       dtype=float32)>,\n",
       " <tf.Variable 'dense_layer_3/bias:0' shape=(10,) dtype=float32, numpy=\n",
       " array([-0.03428783,  0.02029356,  0.03775529, -0.07299696, -0.03570927,\n",
       "         0.07142331,  0.0264537 ,  0.1344768 , -0.1316818 , -0.0157278 ],\n",
       "       dtype=float32)>]"
      ]
     },
     "execution_count": 22,
     "metadata": {},
     "output_type": "execute_result"
    }
   ],
   "source": [
    "model_1.weights"
   ]
  },
  {
   "cell_type": "code",
   "execution_count": 23,
   "id": "3ece3b33",
   "metadata": {},
   "outputs": [
    {
     "data": {
      "text/plain": [
       "{'name': 'sequential_1',\n",
       " 'layers': [{'class_name': 'InputLayer',\n",
       "   'config': {'batch_input_shape': (None, 784),\n",
       "    'dtype': 'float32',\n",
       "    'sparse': False,\n",
       "    'ragged': False,\n",
       "    'name': 'dense_layer_1_input'}},\n",
       "  {'class_name': 'Dense',\n",
       "   'config': {'name': 'dense_layer_1',\n",
       "    'trainable': True,\n",
       "    'batch_input_shape': (None, 784),\n",
       "    'dtype': 'float32',\n",
       "    'units': 64,\n",
       "    'activation': 'relu',\n",
       "    'use_bias': True,\n",
       "    'kernel_initializer': {'class_name': 'GlorotUniform',\n",
       "     'config': {'seed': None}},\n",
       "    'bias_initializer': {'class_name': 'Zeros', 'config': {}},\n",
       "    'kernel_regularizer': None,\n",
       "    'bias_regularizer': None,\n",
       "    'activity_regularizer': None,\n",
       "    'kernel_constraint': None,\n",
       "    'bias_constraint': None}},\n",
       "  {'class_name': 'Dense',\n",
       "   'config': {'name': 'dense_layer_2',\n",
       "    'trainable': True,\n",
       "    'batch_input_shape': (None, 784),\n",
       "    'dtype': 'float32',\n",
       "    'units': 64,\n",
       "    'activation': 'relu',\n",
       "    'use_bias': True,\n",
       "    'kernel_initializer': {'class_name': 'GlorotUniform',\n",
       "     'config': {'seed': None}},\n",
       "    'bias_initializer': {'class_name': 'Zeros', 'config': {}},\n",
       "    'kernel_regularizer': None,\n",
       "    'bias_regularizer': None,\n",
       "    'activity_regularizer': None,\n",
       "    'kernel_constraint': None,\n",
       "    'bias_constraint': None}},\n",
       "  {'class_name': 'Dense',\n",
       "   'config': {'name': 'dense_layer_3',\n",
       "    'trainable': True,\n",
       "    'batch_input_shape': (None, 784),\n",
       "    'dtype': 'float32',\n",
       "    'units': 10,\n",
       "    'activation': 'softmax',\n",
       "    'use_bias': True,\n",
       "    'kernel_initializer': {'class_name': 'GlorotUniform',\n",
       "     'config': {'seed': None}},\n",
       "    'bias_initializer': {'class_name': 'Zeros', 'config': {}},\n",
       "    'kernel_regularizer': None,\n",
       "    'bias_regularizer': None,\n",
       "    'activity_regularizer': None,\n",
       "    'kernel_constraint': None,\n",
       "    'bias_constraint': None}}]}"
      ]
     },
     "execution_count": 23,
     "metadata": {},
     "output_type": "execute_result"
    }
   ],
   "source": [
    "model_1.get_config()"
   ]
  },
  {
   "cell_type": "code",
   "execution_count": 24,
   "id": "d61e91e4",
   "metadata": {},
   "outputs": [],
   "source": [
    "from tensorflow.keras.layers import Dropout\n",
    "model_2=Sequential()\n",
    "N_hidden=128\n",
    "model_2.add(Dense(N_hidden,input_shape=(784,),name=\"dense_layer_1\",activation=\"relu\"))\n",
    "model_2.add(Dropout(0.3))\n",
    "model_2.add(Dense(N_hidden,input_shape=(784,),name=\"dense_layer_2\",activation=\"relu\"))\n",
    "model_2.add(Dropout(0.3))\n",
    "model_2.add(Dense(10,input_shape=(784,),name=\"dense_layer_3\",activation=\"softmax\"))"
   ]
  },
  {
   "cell_type": "code",
   "execution_count": 25,
   "id": "bbdb59da",
   "metadata": {},
   "outputs": [],
   "source": [
    "model_2.compile(optimizer='SGD',loss=\"categorical_crossentropy\",metrics=['accuracy'])"
   ]
  },
  {
   "cell_type": "code",
   "execution_count": 26,
   "id": "481e58d2",
   "metadata": {},
   "outputs": [
    {
     "name": "stdout",
     "output_type": "stream",
     "text": [
      "Epoch 1/50\n",
      "750/750 [==============================] - 3s 4ms/step - loss: 1.3172 - accuracy: 0.5853 - val_loss: 0.5487 - val_accuracy: 0.8615\n",
      "Epoch 2/50\n",
      "750/750 [==============================] - 2s 3ms/step - loss: 0.6586 - accuracy: 0.7971 - val_loss: 0.3791 - val_accuracy: 0.8992\n",
      "Epoch 3/50\n",
      "750/750 [==============================] - 2s 3ms/step - loss: 0.5194 - accuracy: 0.8424 - val_loss: 0.3169 - val_accuracy: 0.9116\n",
      "Epoch 4/50\n",
      "750/750 [==============================] - 3s 3ms/step - loss: 0.4523 - accuracy: 0.8656 - val_loss: 0.2831 - val_accuracy: 0.9178\n",
      "Epoch 5/50\n",
      "750/750 [==============================] - 2s 3ms/step - loss: 0.4091 - accuracy: 0.8799 - val_loss: 0.2580 - val_accuracy: 0.9256\n",
      "Epoch 6/50\n",
      "750/750 [==============================] - 2s 3ms/step - loss: 0.3729 - accuracy: 0.8903 - val_loss: 0.2411 - val_accuracy: 0.9302\n",
      "Epoch 7/50\n",
      "750/750 [==============================] - 3s 4ms/step - loss: 0.3458 - accuracy: 0.8987 - val_loss: 0.2243 - val_accuracy: 0.9349\n",
      "Epoch 8/50\n",
      "750/750 [==============================] - 2s 3ms/step - loss: 0.3262 - accuracy: 0.9038 - val_loss: 0.2116 - val_accuracy: 0.9384\n",
      "Epoch 9/50\n",
      "750/750 [==============================] - 3s 3ms/step - loss: 0.3119 - accuracy: 0.9091 - val_loss: 0.2022 - val_accuracy: 0.9413\n",
      "Epoch 10/50\n",
      "750/750 [==============================] - 2s 3ms/step - loss: 0.2961 - accuracy: 0.9137 - val_loss: 0.1931 - val_accuracy: 0.9446\n",
      "Epoch 11/50\n",
      "750/750 [==============================] - 2s 3ms/step - loss: 0.2784 - accuracy: 0.9177 - val_loss: 0.1854 - val_accuracy: 0.9465\n",
      "Epoch 12/50\n",
      "750/750 [==============================] - 3s 3ms/step - loss: 0.2707 - accuracy: 0.9204 - val_loss: 0.1771 - val_accuracy: 0.9484\n",
      "Epoch 13/50\n",
      "750/750 [==============================] - 2s 3ms/step - loss: 0.2624 - accuracy: 0.9216 - val_loss: 0.1731 - val_accuracy: 0.9493\n",
      "Epoch 14/50\n",
      "750/750 [==============================] - 3s 4ms/step - loss: 0.2530 - accuracy: 0.9253 - val_loss: 0.1658 - val_accuracy: 0.9501\n",
      "Epoch 15/50\n",
      "750/750 [==============================] - 4s 5ms/step - loss: 0.2420 - accuracy: 0.9293 - val_loss: 0.1598 - val_accuracy: 0.9528\n",
      "Epoch 16/50\n",
      "750/750 [==============================] - 3s 3ms/step - loss: 0.2349 - accuracy: 0.9301 - val_loss: 0.1546 - val_accuracy: 0.9546\n",
      "Epoch 17/50\n",
      "750/750 [==============================] - 2s 3ms/step - loss: 0.2259 - accuracy: 0.9330 - val_loss: 0.1510 - val_accuracy: 0.9557\n",
      "Epoch 18/50\n",
      "750/750 [==============================] - 2s 3ms/step - loss: 0.2218 - accuracy: 0.9337 - val_loss: 0.1474 - val_accuracy: 0.9558\n",
      "Epoch 19/50\n",
      "750/750 [==============================] - 2s 3ms/step - loss: 0.2143 - accuracy: 0.9364 - val_loss: 0.1420 - val_accuracy: 0.9584\n",
      "Epoch 20/50\n",
      "750/750 [==============================] - 3s 4ms/step - loss: 0.2092 - accuracy: 0.9390 - val_loss: 0.1387 - val_accuracy: 0.9587\n",
      "Epoch 21/50\n",
      "750/750 [==============================] - 3s 3ms/step - loss: 0.2032 - accuracy: 0.9394 - val_loss: 0.1358 - val_accuracy: 0.9597\n",
      "Epoch 22/50\n",
      "750/750 [==============================] - 3s 4ms/step - loss: 0.2014 - accuracy: 0.9410 - val_loss: 0.1334 - val_accuracy: 0.9607\n",
      "Epoch 23/50\n",
      "750/750 [==============================] - 3s 4ms/step - loss: 0.1939 - accuracy: 0.9426 - val_loss: 0.1310 - val_accuracy: 0.9617\n",
      "Epoch 24/50\n",
      "750/750 [==============================] - 2s 3ms/step - loss: 0.1867 - accuracy: 0.9434 - val_loss: 0.1277 - val_accuracy: 0.9622\n",
      "Epoch 25/50\n",
      "750/750 [==============================] - 3s 3ms/step - loss: 0.1859 - accuracy: 0.9448 - val_loss: 0.1255 - val_accuracy: 0.9631\n",
      "Epoch 26/50\n",
      "750/750 [==============================] - 2s 3ms/step - loss: 0.1810 - accuracy: 0.9465 - val_loss: 0.1228 - val_accuracy: 0.9634\n",
      "Epoch 27/50\n",
      "750/750 [==============================] - 3s 4ms/step - loss: 0.1748 - accuracy: 0.9471 - val_loss: 0.1210 - val_accuracy: 0.9646\n",
      "Epoch 28/50\n",
      "750/750 [==============================] - 3s 4ms/step - loss: 0.1702 - accuracy: 0.9476 - val_loss: 0.1190 - val_accuracy: 0.9643\n",
      "Epoch 29/50\n",
      "750/750 [==============================] - 3s 4ms/step - loss: 0.1684 - accuracy: 0.9501 - val_loss: 0.1174 - val_accuracy: 0.9647\n",
      "Epoch 30/50\n",
      "750/750 [==============================] - 3s 4ms/step - loss: 0.1652 - accuracy: 0.9503 - val_loss: 0.1155 - val_accuracy: 0.9660\n",
      "Epoch 31/50\n",
      "750/750 [==============================] - 3s 5ms/step - loss: 0.1628 - accuracy: 0.9519 - val_loss: 0.1137 - val_accuracy: 0.9663\n",
      "Epoch 32/50\n",
      "750/750 [==============================] - 4s 5ms/step - loss: 0.1601 - accuracy: 0.9528 - val_loss: 0.1123 - val_accuracy: 0.9671\n",
      "Epoch 33/50\n",
      "750/750 [==============================] - 4s 6ms/step - loss: 0.1582 - accuracy: 0.9529 - val_loss: 0.1113 - val_accuracy: 0.9669\n",
      "Epoch 34/50\n",
      "750/750 [==============================] - 4s 5ms/step - loss: 0.1571 - accuracy: 0.9534 - val_loss: 0.1084 - val_accuracy: 0.9674\n",
      "Epoch 35/50\n",
      "750/750 [==============================] - 5s 6ms/step - loss: 0.1528 - accuracy: 0.9548 - val_loss: 0.1078 - val_accuracy: 0.9670\n",
      "Epoch 36/50\n",
      "750/750 [==============================] - 4s 6ms/step - loss: 0.1511 - accuracy: 0.9557 - val_loss: 0.1079 - val_accuracy: 0.9685\n",
      "Epoch 37/50\n",
      "750/750 [==============================] - 4s 6ms/step - loss: 0.1456 - accuracy: 0.9560 - val_loss: 0.1054 - val_accuracy: 0.9686\n",
      "Epoch 38/50\n",
      "750/750 [==============================] - 3s 4ms/step - loss: 0.1440 - accuracy: 0.9570 - val_loss: 0.1048 - val_accuracy: 0.9686\n",
      "Epoch 39/50\n",
      "750/750 [==============================] - 3s 5ms/step - loss: 0.1433 - accuracy: 0.9586 - val_loss: 0.1029 - val_accuracy: 0.9689\n",
      "Epoch 40/50\n",
      "750/750 [==============================] - 3s 4ms/step - loss: 0.1420 - accuracy: 0.9580 - val_loss: 0.1015 - val_accuracy: 0.9697\n",
      "Epoch 41/50\n",
      "750/750 [==============================] - 2s 3ms/step - loss: 0.1392 - accuracy: 0.9586 - val_loss: 0.1015 - val_accuracy: 0.9697\n",
      "Epoch 42/50\n",
      "750/750 [==============================] - 3s 5ms/step - loss: 0.1354 - accuracy: 0.9600 - val_loss: 0.1006 - val_accuracy: 0.9696\n",
      "Epoch 43/50\n",
      "750/750 [==============================] - 3s 4ms/step - loss: 0.1328 - accuracy: 0.9605 - val_loss: 0.0998 - val_accuracy: 0.9702\n",
      "Epoch 44/50\n",
      "750/750 [==============================] - 2s 3ms/step - loss: 0.1329 - accuracy: 0.9614 - val_loss: 0.0983 - val_accuracy: 0.9705\n",
      "Epoch 45/50\n",
      "750/750 [==============================] - 3s 4ms/step - loss: 0.1331 - accuracy: 0.9605 - val_loss: 0.0974 - val_accuracy: 0.9707\n",
      "Epoch 46/50\n",
      "750/750 [==============================] - 3s 4ms/step - loss: 0.1267 - accuracy: 0.9626 - val_loss: 0.0969 - val_accuracy: 0.9707\n",
      "Epoch 47/50\n",
      "750/750 [==============================] - 3s 4ms/step - loss: 0.1254 - accuracy: 0.9632 - val_loss: 0.0957 - val_accuracy: 0.9704\n",
      "Epoch 48/50\n",
      "750/750 [==============================] - 3s 3ms/step - loss: 0.1257 - accuracy: 0.9619 - val_loss: 0.0954 - val_accuracy: 0.9709\n",
      "Epoch 49/50\n",
      "750/750 [==============================] - 3s 4ms/step - loss: 0.1226 - accuracy: 0.9630 - val_loss: 0.0947 - val_accuracy: 0.9713\n",
      "Epoch 50/50\n",
      "750/750 [==============================] - 4s 5ms/step - loss: 0.1207 - accuracy: 0.9646 - val_loss: 0.0937 - val_accuracy: 0.9716\n"
     ]
    }
   ],
   "source": [
    "training=model_2.fit(X_train,Y_train,batch_size=64,epochs=50,validation_split=0.2)"
   ]
  },
  {
   "cell_type": "code",
   "execution_count": 27,
   "id": "ac672e65",
   "metadata": {},
   "outputs": [
    {
     "name": "stdout",
     "output_type": "stream",
     "text": [
      "dict_keys(['loss', 'accuracy', 'val_loss', 'val_accuracy'])\n"
     ]
    },
    {
     "data": {
      "image/png": "[encoded data removed]",
      "text/plain": [
       "<Figure size 432x288 with 1 Axes>"
      ]
     },
     "metadata": {
      "needs_background": "light"
     },
     "output_type": "display_data"
    },
    {
     "data": {
      "image/png": "[encoded data removed]",
      "text/plain": [
       "<Figure size 432x288 with 1 Axes>"
      ]
     },
     "metadata": {
      "needs_background": "light"
     },
     "output_type": "display_data"
    }
   ],
   "source": [
    "import matplotlib.pyplot as plt\n",
    "%matplotlib inline\n",
    "print(training.history.keys())\n",
    "plt.plot(training.history[\"accuracy\"])\n",
    "plt.plot(training.history[\"val_accuracy\"])\n",
    "plt.title(\"model accuaracy\")\n",
    "plt.xlabel('epoch')\n",
    "plt.ylabel('accuracy')\n",
    "plt.legend(['train','test'],loc='upper left')\n",
    "plt.show()\n",
    "\n",
    "plt.plot(training.history[\"loss\"])\n",
    "plt.plot(training.history[\"val_loss\"])\n",
    "plt.title(\"model loss\")\n",
    "plt.xlabel('epoch')\n",
    "plt.ylabel('loss')\n",
    "plt.legend(['train','test'],loc='upper left')\n",
    "plt.show()"
   ]
  },
  {
   "cell_type": "code",
   "execution_count": 29,
   "id": "ac934a16",
   "metadata": {},
   "outputs": [
    {
     "data": {
      "text/plain": [
       "<bound method Model.summary of <keras.engine.sequential.Sequential object at 0x00000143273E8490>>"
      ]
     },
     "execution_count": 29,
     "metadata": {},
     "output_type": "execute_result"
    }
   ],
   "source": [
    "model_2.summary"
   ]
  },
  {
   "cell_type": "code",
   "execution_count": 30,
   "id": "149a6415",
   "metadata": {},
   "outputs": [
    {
     "data": {
      "text/plain": [
       "[<tf.Variable 'dense_layer_1/kernel:0' shape=(784, 128) dtype=float32, numpy=\n",
       " array([[-0.03896888, -0.01583049,  0.06972631, ..., -0.02331994,\n",
       "         -0.00039278,  0.00684255],\n",
       "        [-0.07786425, -0.03177633,  0.02876096, ...,  0.05039438,\n",
       "         -0.03164833, -0.04297904],\n",
       "        [-0.03282193,  0.05948376, -0.0299189 , ...,  0.06050371,\n",
       "          0.02411256,  0.0306415 ],\n",
       "        ...,\n",
       "        [ 0.05552394, -0.06585708,  0.02344523, ...,  0.07957887,\n",
       "         -0.00293813, -0.07637136],\n",
       "        [-0.07998108,  0.00788949, -0.06704175, ...,  0.01572359,\n",
       "         -0.04917525, -0.06237323],\n",
       "        [ 0.06309027,  0.05388128,  0.07339712, ...,  0.06754833,\n",
       "          0.06162892,  0.01742288]], dtype=float32)>,\n",
       " <tf.Variable 'dense_layer_1/bias:0' shape=(128,) dtype=float32, numpy=\n",
       " array([-0.06738524,  0.00293756, -0.09070731, -0.02217973, -0.05353959,\n",
       "        -0.00163812,  0.03535212, -0.15456006, -0.01147199, -0.04702369,\n",
       "         0.10551337,  0.02339045, -0.06657968, -0.01496122,  0.01800919,\n",
       "        -0.07297612,  0.07133886, -0.02129916,  0.06095197,  0.0859338 ,\n",
       "        -0.05928891,  0.04042263, -0.01386753,  0.06837749, -0.122575  ,\n",
       "        -0.06130742,  0.06635492, -0.04853906, -0.07710893,  0.00049592,\n",
       "        -0.02832388,  0.04564656,  0.1417285 ,  0.00345153, -0.06876723,\n",
       "         0.040529  , -0.08894099,  0.09158149, -0.03702608,  0.02291343,\n",
       "        -0.05611046,  0.04813014,  0.08869013,  0.0725193 , -0.04564185,\n",
       "         0.07376506,  0.04069848, -0.09652346,  0.16352713,  0.03775677,\n",
       "         0.11071681,  0.01384739,  0.08838446,  0.03326191, -0.05264398,\n",
       "        -0.08485857,  0.00510788, -0.02832837, -0.07744692,  0.02413287,\n",
       "         0.03783513, -0.02209348, -0.01157041,  0.01555485,  0.04543941,\n",
       "        -0.04098703, -0.1190756 , -0.00449128, -0.1824737 ,  0.0581633 ,\n",
       "         0.11628686,  0.00676104,  0.07918318, -0.03898436, -0.02792579,\n",
       "        -0.1038188 , -0.05901574, -0.00544978,  0.00689726, -0.01085496,\n",
       "        -0.01909815,  0.03886555,  0.12311267, -0.01395141,  0.06029148,\n",
       "         0.03682031,  0.05532554, -0.03562536, -0.02242627,  0.00506207,\n",
       "         0.010531  , -0.02286033,  0.06805846, -0.00197869, -0.02996637,\n",
       "         0.02884557, -0.00898338,  0.02269761,  0.06444658,  0.01143289,\n",
       "         0.06171222,  0.02176301,  0.13970828, -0.02406828, -0.2265077 ,\n",
       "         0.0763291 ,  0.21009666,  0.02062336,  0.02608095, -0.00131911,\n",
       "         0.12008119,  0.01816123,  0.03822284,  0.04169017, -0.06046138,\n",
       "         0.08352049,  0.07241213, -0.13475938,  0.07890016, -0.07616127,\n",
       "         0.05190839,  0.0153868 , -0.06678299, -0.0153942 ,  0.06445005,\n",
       "         0.03740742,  0.09935475, -0.02787758], dtype=float32)>,\n",
       " <tf.Variable 'dense_layer_2/kernel:0' shape=(128, 128) dtype=float32, numpy=\n",
       " array([[ 0.15115759, -0.00974493,  0.01285283, ...,  0.00984368,\n",
       "          0.01366348, -0.1870181 ],\n",
       "        [-0.07610846,  0.1116701 , -0.09391052, ...,  0.12002128,\n",
       "         -0.08684658,  0.05544204],\n",
       "        [-0.23401752,  0.03823243,  0.08823843, ..., -0.05667786,\n",
       "          0.12506528,  0.00892868],\n",
       "        ...,\n",
       "        [ 0.09286088, -0.04971266,  0.07717626, ..., -0.09467804,\n",
       "         -0.10296049, -0.00168812],\n",
       "        [-0.09011386, -0.12192733,  0.00411756, ...,  0.04920941,\n",
       "         -0.06573708, -0.12985177],\n",
       "        [ 0.1418854 ,  0.1230823 ,  0.02487367, ...,  0.01374437,\n",
       "         -0.09162099, -0.10128784]], dtype=float32)>,\n",
       " <tf.Variable 'dense_layer_2/bias:0' shape=(128,) dtype=float32, numpy=\n",
       " array([ 2.24458650e-02,  6.40081316e-02,  4.17191908e-02,  1.02209575e-01,\n",
       "         3.49590480e-02,  1.79033987e-02, -2.10061297e-02,  1.04621865e-01,\n",
       "         6.19368702e-02,  2.30469424e-02,  3.79177406e-02,  3.92933413e-02,\n",
       "         1.27489557e-02,  7.53428554e-03,  1.08162835e-02,  5.94923832e-03,\n",
       "        -7.00097438e-03,  6.52678907e-02,  4.68268096e-02,  8.92083049e-02,\n",
       "         7.18462467e-02,  7.38617266e-03,  3.14789899e-02, -4.67012748e-02,\n",
       "         9.08934623e-02,  1.19971987e-02,  4.91765067e-02,  6.48006201e-02,\n",
       "         6.76882640e-02,  1.55133203e-01,  5.84972501e-02, -6.06454816e-03,\n",
       "        -1.55886431e-04,  8.99511725e-02,  1.58779263e-01,  6.25589862e-02,\n",
       "         1.35652935e-02,  2.12163609e-02,  1.03017636e-01,  1.30889729e-01,\n",
       "         1.03629336e-01,  5.40817669e-03,  8.72307792e-02,  1.82941686e-02,\n",
       "         5.50254658e-02,  1.14735663e-01, -7.59518985e-03,  2.04414986e-02,\n",
       "         5.38084880e-02,  6.66721687e-02,  5.03732227e-02,  9.68359932e-02,\n",
       "         4.25273031e-02,  1.27647728e-01,  5.35523444e-02,  1.06711321e-01,\n",
       "         5.06906062e-02,  4.03654389e-02,  2.09576674e-02,  7.85096586e-02,\n",
       "         5.17220311e-02,  1.01928189e-01,  5.06762303e-02,  3.78672741e-02,\n",
       "         7.81976804e-02,  4.24519591e-02,  7.79243633e-02,  1.18316613e-01,\n",
       "        -2.77572256e-02,  6.90006986e-02,  7.52563328e-02,  9.41329356e-03,\n",
       "         7.28067458e-02,  5.27643673e-02,  1.02002837e-01,  9.92666930e-02,\n",
       "         6.08805045e-02,  6.08998612e-02, -1.77075025e-02,  8.53229389e-02,\n",
       "         3.66204567e-02,  8.00313428e-02,  8.29348862e-02,  7.27277175e-02,\n",
       "        -3.17450128e-02,  6.20006621e-02,  1.06809549e-01,  6.55747950e-02,\n",
       "         5.37624881e-02, -2.29376499e-02,  9.90959704e-02,  1.08056642e-01,\n",
       "         4.01684456e-02,  1.32716047e-02,  9.16809365e-02,  2.71723568e-02,\n",
       "         8.40090141e-02,  4.91749384e-02,  4.26018126e-02,  6.74561709e-02,\n",
       "         2.85941213e-02,  2.61736717e-02,  5.62525876e-02,  8.86402726e-02,\n",
       "         5.85581118e-04,  6.75206259e-02,  1.44226283e-01,  1.23861104e-01,\n",
       "         3.61497817e-03, -1.61434300e-02,  4.63355780e-02,  4.05830480e-02,\n",
       "         7.62101710e-02,  4.35955636e-02,  3.48378941e-02,  1.14461601e-01,\n",
       "         2.31419206e-02,  4.02181447e-02,  9.00007561e-02, -9.22457222e-03,\n",
       "         6.52929246e-02,  8.13297704e-02,  5.64339757e-02, -2.17304789e-02,\n",
       "         2.21343432e-02, -2.40045041e-02,  1.01573840e-01,  3.90466675e-02],\n",
       "       dtype=float32)>,\n",
       " <tf.Variable 'dense_layer_3/kernel:0' shape=(128, 10) dtype=float32, numpy=\n",
       " array([[ 0.30095014, -0.13820234, -0.25718534, ..., -0.04216587,\n",
       "         -0.17662154,  0.37871164],\n",
       "        [ 0.25555173,  0.21498427,  0.13422191, ..., -0.2146211 ,\n",
       "          0.03803546, -0.03217628],\n",
       "        [ 0.27448362, -0.21049318,  0.03206555, ..., -0.147166  ,\n",
       "         -0.18366238,  0.0598611 ],\n",
       "        ...,\n",
       "        [-0.1680045 ,  0.06780363,  0.3141381 , ...,  0.16610803,\n",
       "         -0.24226443,  0.12625624],\n",
       "        [-0.25262317,  0.23149252,  0.13015433, ..., -0.20387053,\n",
       "          0.33183408,  0.189013  ],\n",
       "        [ 0.09328572,  0.36688587,  0.01776215, ...,  0.43114188,\n",
       "         -0.2951092 , -0.28584942]], dtype=float32)>,\n",
       " <tf.Variable 'dense_layer_3/bias:0' shape=(10,) dtype=float32, numpy=\n",
       " array([-0.07761417,  0.1507837 , -0.14377707, -0.07531977,  0.07563506,\n",
       "        -0.08028264, -0.02701334, -0.05005363,  0.16326353,  0.06437869],\n",
       "       dtype=float32)>]"
      ]
     },
     "execution_count": 30,
     "metadata": {},
     "output_type": "execute_result"
    }
   ],
   "source": [
    "model_2.weights"
   ]
  },
  {
   "cell_type": "code",
   "execution_count": 31,
   "id": "613ab42f",
   "metadata": {},
   "outputs": [
    {
     "data": {
      "text/plain": [
       "{'name': 'sequential_2',\n",
       " 'layers': [{'class_name': 'InputLayer',\n",
       "   'config': {'batch_input_shape': (None, 784),\n",
       "    'dtype': 'float32',\n",
       "    'sparse': False,\n",
       "    'ragged': False,\n",
       "    'name': 'dense_layer_1_input'}},\n",
       "  {'class_name': 'Dense',\n",
       "   'config': {'name': 'dense_layer_1',\n",
       "    'trainable': True,\n",
       "    'batch_input_shape': (None, 784),\n",
       "    'dtype': 'float32',\n",
       "    'units': 128,\n",
       "    'activation': 'relu',\n",
       "    'use_bias': True,\n",
       "    'kernel_initializer': {'class_name': 'GlorotUniform',\n",
       "     'config': {'seed': None}},\n",
       "    'bias_initializer': {'class_name': 'Zeros', 'config': {}},\n",
       "    'kernel_regularizer': None,\n",
       "    'bias_regularizer': None,\n",
       "    'activity_regularizer': None,\n",
       "    'kernel_constraint': None,\n",
       "    'bias_constraint': None}},\n",
       "  {'class_name': 'Dropout',\n",
       "   'config': {'name': 'dropout',\n",
       "    'trainable': True,\n",
       "    'dtype': 'float32',\n",
       "    'rate': 0.3,\n",
       "    'noise_shape': None,\n",
       "    'seed': None}},\n",
       "  {'class_name': 'Dense',\n",
       "   'config': {'name': 'dense_layer_2',\n",
       "    'trainable': True,\n",
       "    'batch_input_shape': (None, 784),\n",
       "    'dtype': 'float32',\n",
       "    'units': 128,\n",
       "    'activation': 'relu',\n",
       "    'use_bias': True,\n",
       "    'kernel_initializer': {'class_name': 'GlorotUniform',\n",
       "     'config': {'seed': None}},\n",
       "    'bias_initializer': {'class_name': 'Zeros', 'config': {}},\n",
       "    'kernel_regularizer': None,\n",
       "    'bias_regularizer': None,\n",
       "    'activity_regularizer': None,\n",
       "    'kernel_constraint': None,\n",
       "    'bias_constraint': None}},\n",
       "  {'class_name': 'Dropout',\n",
       "   'config': {'name': 'dropout_1',\n",
       "    'trainable': True,\n",
       "    'dtype': 'float32',\n",
       "    'rate': 0.3,\n",
       "    'noise_shape': None,\n",
       "    'seed': None}},\n",
       "  {'class_name': 'Dense',\n",
       "   'config': {'name': 'dense_layer_3',\n",
       "    'trainable': True,\n",
       "    'batch_input_shape': (None, 784),\n",
       "    'dtype': 'float32',\n",
       "    'units': 10,\n",
       "    'activation': 'softmax',\n",
       "    'use_bias': True,\n",
       "    'kernel_initializer': {'class_name': 'GlorotUniform',\n",
       "     'config': {'seed': None}},\n",
       "    'bias_initializer': {'class_name': 'Zeros', 'config': {}},\n",
       "    'kernel_regularizer': None,\n",
       "    'bias_regularizer': None,\n",
       "    'activity_regularizer': None,\n",
       "    'kernel_constraint': None,\n",
       "    'bias_constraint': None}}]}"
      ]
     },
     "execution_count": 31,
     "metadata": {},
     "output_type": "execute_result"
    }
   ],
   "source": [
    "model_2.get_config()"
   ]
  },
  {
   "cell_type": "code",
   "execution_count": 34,
   "id": "6b40d937",
   "metadata": {},
   "outputs": [],
   "source": [
    "model_2.compile(optimizer='Adam',loss=\"categorical_crossentropy\",metrics=['accuracy'])"
   ]
  },
  {
   "cell_type": "code",
   "execution_count": 35,
   "id": "ec2dd9e7",
   "metadata": {},
   "outputs": [
    {
     "name": "stdout",
     "output_type": "stream",
     "text": [
      "Epoch 1/20\n",
      "750/750 [==============================] - 4s 4ms/step - loss: 0.0553 - accuracy: 0.9828 - val_loss: 0.0856 - val_accuracy: 0.9789\n",
      "Epoch 2/20\n",
      "750/750 [==============================] - 2s 3ms/step - loss: 0.0511 - accuracy: 0.9834 - val_loss: 0.0839 - val_accuracy: 0.9787\n",
      "Epoch 3/20\n",
      "750/750 [==============================] - 2s 3ms/step - loss: 0.0452 - accuracy: 0.9851 - val_loss: 0.0865 - val_accuracy: 0.9796\n",
      "Epoch 4/20\n",
      "750/750 [==============================] - 3s 4ms/step - loss: 0.0475 - accuracy: 0.9848 - val_loss: 0.0854 - val_accuracy: 0.9788\n",
      "Epoch 5/20\n",
      "750/750 [==============================] - 2s 3ms/step - loss: 0.0478 - accuracy: 0.9849 - val_loss: 0.0830 - val_accuracy: 0.9792\n",
      "Epoch 6/20\n",
      "750/750 [==============================] - 2s 3ms/step - loss: 0.0442 - accuracy: 0.9852 - val_loss: 0.0854 - val_accuracy: 0.9783\n",
      "Epoch 7/20\n",
      "750/750 [==============================] - 3s 4ms/step - loss: 0.0452 - accuracy: 0.9853 - val_loss: 0.0852 - val_accuracy: 0.9793\n",
      "Epoch 8/20\n",
      "750/750 [==============================] - 3s 4ms/step - loss: 0.0441 - accuracy: 0.9856 - val_loss: 0.0851 - val_accuracy: 0.9795\n",
      "Epoch 9/20\n",
      "750/750 [==============================] - 3s 4ms/step - loss: 0.0425 - accuracy: 0.9859 - val_loss: 0.0859 - val_accuracy: 0.9799\n",
      "Epoch 10/20\n",
      "750/750 [==============================] - 3s 4ms/step - loss: 0.0422 - accuracy: 0.9859 - val_loss: 0.0803 - val_accuracy: 0.9790\n",
      "Epoch 11/20\n",
      "750/750 [==============================] - 3s 4ms/step - loss: 0.0425 - accuracy: 0.9860 - val_loss: 0.0883 - val_accuracy: 0.9792\n",
      "Epoch 12/20\n",
      "750/750 [==============================] - 2s 3ms/step - loss: 0.0431 - accuracy: 0.9865 - val_loss: 0.0891 - val_accuracy: 0.9795\n",
      "Epoch 13/20\n",
      "750/750 [==============================] - 3s 4ms/step - loss: 0.0403 - accuracy: 0.9868 - val_loss: 0.0837 - val_accuracy: 0.9796\n",
      "Epoch 14/20\n",
      "750/750 [==============================] - 2s 3ms/step - loss: 0.0398 - accuracy: 0.9874 - val_loss: 0.0907 - val_accuracy: 0.9788\n",
      "Epoch 15/20\n",
      "750/750 [==============================] - 4s 5ms/step - loss: 0.0387 - accuracy: 0.9876 - val_loss: 0.0925 - val_accuracy: 0.9801\n",
      "Epoch 16/20\n",
      "750/750 [==============================] - 5s 6ms/step - loss: 0.0393 - accuracy: 0.9872 - val_loss: 0.0846 - val_accuracy: 0.9813\n",
      "Epoch 17/20\n",
      "750/750 [==============================] - 4s 5ms/step - loss: 0.0405 - accuracy: 0.9867 - val_loss: 0.0874 - val_accuracy: 0.9820\n",
      "Epoch 18/20\n",
      "750/750 [==============================] - 4s 5ms/step - loss: 0.0399 - accuracy: 0.9874 - val_loss: 0.0907 - val_accuracy: 0.9797\n",
      "Epoch 19/20\n",
      "750/750 [==============================] - 3s 4ms/step - loss: 0.0365 - accuracy: 0.9879 - val_loss: 0.0941 - val_accuracy: 0.9785\n",
      "Epoch 20/20\n",
      "750/750 [==============================] - 2s 3ms/step - loss: 0.0389 - accuracy: 0.9874 - val_loss: 0.0914 - val_accuracy: 0.9799\n"
     ]
    }
   ],
   "source": [
    "training=model_2.fit(X_train,Y_train,batch_size=64,epochs=20,validation_split=0.2)"
   ]
  },
  {
   "cell_type": "code",
   "execution_count": 36,
   "id": "380d9d27",
   "metadata": {},
   "outputs": [
    {
     "name": "stdout",
     "output_type": "stream",
     "text": [
      "dict_keys(['loss', 'accuracy', 'val_loss', 'val_accuracy'])\n"
     ]
    },
    {
     "data": {
      "image/png": "[encoded data removed]",
      "text/plain": [
       "<Figure size 432x288 with 1 Axes>"
      ]
     },
     "metadata": {
      "needs_background": "light"
     },
     "output_type": "display_data"
    },
    {
     "data": {
      "image/png": "[encoded data removed]",
      "text/plain": [
       "<Figure size 432x288 with 1 Axes>"
      ]
     },
     "metadata": {
      "needs_background": "light"
     },
     "output_type": "display_data"
    }
   ],
   "source": [
    "import matplotlib.pyplot as plt\n",
    "%matplotlib inline\n",
    "print(training.history.keys())\n",
    "plt.plot(training.history[\"accuracy\"])\n",
    "plt.plot(training.history[\"val_accuracy\"])\n",
    "plt.title(\"model accuaracy\")\n",
    "plt.xlabel('epoch')\n",
    "plt.ylabel('accuracy')\n",
    "plt.legend(['train','test'],loc='upper left')\n",
    "plt.show()\n",
    "\n",
    "plt.plot(training.history[\"loss\"])\n",
    "plt.plot(training.history[\"val_loss\"])\n",
    "plt.title(\"model loss\")\n",
    "plt.xlabel('epoch')\n",
    "plt.ylabel('loss')\n",
    "plt.legend(['train','test'],loc='upper left')\n",
    "plt.show()"
   ]
  },
  {
   "cell_type": "code",
   "execution_count": null,
   "id": "f7d00954",
   "metadata": {},
   "outputs": [],
   "source": []
  }
 ],
 "metadata": {
  "kernelspec": {
   "display_name": "Python 3 (ipykernel)",
   "language": "python",
   "name": "python3"
  },
  "language_info": {
   "codemirror_mode": {
    "name": "ipython",
    "version": 3
   },
   "file_extension": ".py",
   "mimetype": "text/x-python",
   "name": "python",
   "nbconvert_exporter": "python",
   "pygments_lexer": "ipython3",
   "version": "3.9.12"
  }
 },
 "nbformat": 4,
 "nbformat_minor": 5
}
