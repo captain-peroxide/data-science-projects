{
 "cells": [
  {
   "cell_type": "code",
   "execution_count": 1,
   "id": "d286210d",
   "metadata": {},
   "outputs": [],
   "source": [
    "from keras.datasets import imdb\n",
    "(train_data, train_labels), (test_data, test_labels) = imdb.load_data(num_words=10000)"
   ]
  },
  {
   "cell_type": "code",
   "execution_count": 2,
   "id": "15cce3f6",
   "metadata": {},
   "outputs": [
    {
     "data": {
      "text/plain": [
       "[1,\n",
       " 14,\n",
       " 22,\n",
       " 16,\n",
       " 43,\n",
       " 530,\n",
       " 973,\n",
       " 1622,\n",
       " 1385,\n",
       " 65,\n",
       " 458,\n",
       " 4468,\n",
       " 66,\n",
       " 3941,\n",
       " 4,\n",
       " 173,\n",
       " 36,\n",
       " 256,\n",
       " 5,\n",
       " 25,\n",
       " 100,\n",
       " 43,\n",
       " 838,\n",
       " 112,\n",
       " 50,\n",
       " 670,\n",
       " 2,\n",
       " 9,\n",
       " 35,\n",
       " 480,\n",
       " 284,\n",
       " 5,\n",
       " 150,\n",
       " 4,\n",
       " 172,\n",
       " 112,\n",
       " 167,\n",
       " 2,\n",
       " 336,\n",
       " 385,\n",
       " 39,\n",
       " 4,\n",
       " 172,\n",
       " 4536,\n",
       " 1111,\n",
       " 17,\n",
       " 546,\n",
       " 38,\n",
       " 13,\n",
       " 447,\n",
       " 4,\n",
       " 192,\n",
       " 50,\n",
       " 16,\n",
       " 6,\n",
       " 147,\n",
       " 2025,\n",
       " 19,\n",
       " 14,\n",
       " 22,\n",
       " 4,\n",
       " 1920,\n",
       " 4613,\n",
       " 469,\n",
       " 4,\n",
       " 22,\n",
       " 71,\n",
       " 87,\n",
       " 12,\n",
       " 16,\n",
       " 43,\n",
       " 530,\n",
       " 38,\n",
       " 76,\n",
       " 15,\n",
       " 13,\n",
       " 1247,\n",
       " 4,\n",
       " 22,\n",
       " 17,\n",
       " 515,\n",
       " 17,\n",
       " 12,\n",
       " 16,\n",
       " 626,\n",
       " 18,\n",
       " 2,\n",
       " 5,\n",
       " 62,\n",
       " 386,\n",
       " 12,\n",
       " 8,\n",
       " 316,\n",
       " 8,\n",
       " 106,\n",
       " 5,\n",
       " 4,\n",
       " 2223,\n",
       " 5244,\n",
       " 16,\n",
       " 480,\n",
       " 66,\n",
       " 3785,\n",
       " 33,\n",
       " 4,\n",
       " 130,\n",
       " 12,\n",
       " 16,\n",
       " 38,\n",
       " 619,\n",
       " 5,\n",
       " 25,\n",
       " 124,\n",
       " 51,\n",
       " 36,\n",
       " 135,\n",
       " 48,\n",
       " 25,\n",
       " 1415,\n",
       " 33,\n",
       " 6,\n",
       " 22,\n",
       " 12,\n",
       " 215,\n",
       " 28,\n",
       " 77,\n",
       " 52,\n",
       " 5,\n",
       " 14,\n",
       " 407,\n",
       " 16,\n",
       " 82,\n",
       " 2,\n",
       " 8,\n",
       " 4,\n",
       " 107,\n",
       " 117,\n",
       " 5952,\n",
       " 15,\n",
       " 256,\n",
       " 4,\n",
       " 2,\n",
       " 7,\n",
       " 3766,\n",
       " 5,\n",
       " 723,\n",
       " 36,\n",
       " 71,\n",
       " 43,\n",
       " 530,\n",
       " 476,\n",
       " 26,\n",
       " 400,\n",
       " 317,\n",
       " 46,\n",
       " 7,\n",
       " 4,\n",
       " 2,\n",
       " 1029,\n",
       " 13,\n",
       " 104,\n",
       " 88,\n",
       " 4,\n",
       " 381,\n",
       " 15,\n",
       " 297,\n",
       " 98,\n",
       " 32,\n",
       " 2071,\n",
       " 56,\n",
       " 26,\n",
       " 141,\n",
       " 6,\n",
       " 194,\n",
       " 7486,\n",
       " 18,\n",
       " 4,\n",
       " 226,\n",
       " 22,\n",
       " 21,\n",
       " 134,\n",
       " 476,\n",
       " 26,\n",
       " 480,\n",
       " 5,\n",
       " 144,\n",
       " 30,\n",
       " 5535,\n",
       " 18,\n",
       " 51,\n",
       " 36,\n",
       " 28,\n",
       " 224,\n",
       " 92,\n",
       " 25,\n",
       " 104,\n",
       " 4,\n",
       " 226,\n",
       " 65,\n",
       " 16,\n",
       " 38,\n",
       " 1334,\n",
       " 88,\n",
       " 12,\n",
       " 16,\n",
       " 283,\n",
       " 5,\n",
       " 16,\n",
       " 4472,\n",
       " 113,\n",
       " 103,\n",
       " 32,\n",
       " 15,\n",
       " 16,\n",
       " 5345,\n",
       " 19,\n",
       " 178,\n",
       " 32]"
      ]
     },
     "execution_count": 2,
     "metadata": {},
     "output_type": "execute_result"
    }
   ],
   "source": [
    "train_data[0]"
   ]
  },
  {
   "cell_type": "code",
   "execution_count": 3,
   "id": "d48cb5a5",
   "metadata": {},
   "outputs": [
    {
     "data": {
      "text/plain": [
       "1"
      ]
     },
     "execution_count": 3,
     "metadata": {},
     "output_type": "execute_result"
    }
   ],
   "source": [
    "train_labels[0]"
   ]
  },
  {
   "cell_type": "code",
   "execution_count": 4,
   "id": "a65f5b17",
   "metadata": {},
   "outputs": [
    {
     "data": {
      "text/plain": [
       "9999"
      ]
     },
     "execution_count": 4,
     "metadata": {},
     "output_type": "execute_result"
    }
   ],
   "source": [
    "max([max(sequence) for sequence in train_data])"
   ]
  },
  {
   "cell_type": "code",
   "execution_count": 5,
   "id": "49ac5c3d",
   "metadata": {},
   "outputs": [],
   "source": [
    "word_index=imdb.get_word_index()\n",
    "reverse_word_index=dict([(value,key) for (key,value) in word_index.items()])\n",
    "decoded_review=' '.join(reverse_word_index.get(i-3,'?') for i in train_data[0])"
   ]
  },
  {
   "cell_type": "code",
   "execution_count": 6,
   "id": "0abbec0b",
   "metadata": {},
   "outputs": [],
   "source": [
    "import numpy as np\n",
    "def vectorize_sequences(sequences,dimension=10000):\n",
    "    results=np.zeros((len(sequences),dimension))\n",
    "    for i, sequence in enumerate(sequences):\n",
    "        results[i,sequence]=1\n",
    "    return results\n",
    "x_train=vectorize_sequences(train_data)\n",
    "x_test=vectorize_sequences(test_data)"
   ]
  },
  {
   "cell_type": "code",
   "execution_count": 7,
   "id": "1fbe21c4",
   "metadata": {},
   "outputs": [
    {
     "data": {
      "text/plain": [
       "array([0., 1., 1., ..., 0., 0., 0.])"
      ]
     },
     "execution_count": 7,
     "metadata": {},
     "output_type": "execute_result"
    }
   ],
   "source": [
    "x_train[0]"
   ]
  },
  {
   "cell_type": "code",
   "execution_count": 8,
   "id": "47fdf4ee",
   "metadata": {},
   "outputs": [],
   "source": [
    "y_train=np.asarray(train_labels).astype('float32')\n",
    "y_test=np.asarray(test_labels).astype('float32')"
   ]
  },
  {
   "cell_type": "code",
   "execution_count": 9,
   "id": "b22d1f5e",
   "metadata": {},
   "outputs": [],
   "source": [
    "from keras import models\n",
    "from keras import layers\n",
    "\n",
    "model=models.Sequential()\n",
    "model.add(layers.Dense(16,activation='relu',input_shape=(10000,)))\n",
    "model.add(layers.Dense(16,activation='relu'))\n",
    "model.add(layers.Dense(1,activation='sigmoid'))"
   ]
  },
  {
   "cell_type": "code",
   "execution_count": 10,
   "id": "7fa82148",
   "metadata": {},
   "outputs": [],
   "source": [
    "from keras import optimizers\n",
    "from keras import losses\n",
    "from keras import metrics\n",
    "model.compile(optimizer=optimizers.RMSprop(learning_rate=0.001),\n",
    "loss=losses.binary_crossentropy,\n",
    "metrics=[metrics.binary_accuracy])"
   ]
  },
  {
   "cell_type": "code",
   "execution_count": 11,
   "id": "7cb1141e",
   "metadata": {},
   "outputs": [],
   "source": [
    "x_val = x_train[:10000]\n",
    "partial_x_train = x_train[10000:]\n",
    "y_val = y_train[:10000]\n",
    "partial_y_train = y_train[10000:]"
   ]
  },
  {
   "cell_type": "code",
   "execution_count": 12,
   "id": "92da1bd6",
   "metadata": {},
   "outputs": [],
   "source": [
    "model.compile(optimizer='rmsprop',\n",
    "loss='binary_crossentropy',\n",
    "metrics=['acc'])"
   ]
  },
  {
   "cell_type": "code",
   "execution_count": 13,
   "id": "82a8c346",
   "metadata": {},
   "outputs": [
    {
     "name": "stdout",
     "output_type": "stream",
     "text": [
      "Epoch 1/20\n",
      "30/30 [==============================] - 11s 226ms/step - loss: 0.5007 - acc: 0.7815 - val_loss: 0.3653 - val_acc: 0.8712\n",
      "Epoch 2/20\n",
      "30/30 [==============================] - 1s 46ms/step - loss: 0.2886 - acc: 0.9071 - val_loss: 0.3199 - val_acc: 0.8757\n",
      "Epoch 3/20\n",
      "30/30 [==============================] - 2s 54ms/step - loss: 0.2149 - acc: 0.9303 - val_loss: 0.2756 - val_acc: 0.8918\n",
      "Epoch 4/20\n",
      "30/30 [==============================] - 1s 41ms/step - loss: 0.1701 - acc: 0.9440 - val_loss: 0.3011 - val_acc: 0.8808\n",
      "Epoch 5/20\n",
      "30/30 [==============================] - 1s 41ms/step - loss: 0.1401 - acc: 0.9556 - val_loss: 0.2909 - val_acc: 0.8881\n",
      "Epoch 6/20\n",
      "30/30 [==============================] - 1s 38ms/step - loss: 0.1197 - acc: 0.9608 - val_loss: 0.3021 - val_acc: 0.8863\n",
      "Epoch 7/20\n",
      "30/30 [==============================] - 1s 37ms/step - loss: 0.0944 - acc: 0.9725 - val_loss: 0.3118 - val_acc: 0.8852\n",
      "Epoch 8/20\n",
      "30/30 [==============================] - 1s 34ms/step - loss: 0.0801 - acc: 0.9766 - val_loss: 0.3321 - val_acc: 0.8840\n",
      "Epoch 9/20\n",
      "30/30 [==============================] - 1s 34ms/step - loss: 0.0663 - acc: 0.9815 - val_loss: 0.3779 - val_acc: 0.8760\n",
      "Epoch 10/20\n",
      "30/30 [==============================] - 1s 35ms/step - loss: 0.0552 - acc: 0.9854 - val_loss: 0.3946 - val_acc: 0.8784\n",
      "Epoch 11/20\n",
      "30/30 [==============================] - 1s 34ms/step - loss: 0.0432 - acc: 0.9898 - val_loss: 0.4181 - val_acc: 0.8744\n",
      "Epoch 12/20\n",
      "30/30 [==============================] - 1s 36ms/step - loss: 0.0368 - acc: 0.9916 - val_loss: 0.4609 - val_acc: 0.8745\n",
      "Epoch 13/20\n",
      "30/30 [==============================] - 1s 36ms/step - loss: 0.0306 - acc: 0.9935 - val_loss: 0.4774 - val_acc: 0.8735\n",
      "Epoch 14/20\n",
      "30/30 [==============================] - 1s 36ms/step - loss: 0.0241 - acc: 0.9951 - val_loss: 0.5109 - val_acc: 0.8740\n",
      "Epoch 15/20\n",
      "30/30 [==============================] - 1s 35ms/step - loss: 0.0207 - acc: 0.9956 - val_loss: 0.5416 - val_acc: 0.8730\n",
      "Epoch 16/20\n",
      "30/30 [==============================] - 1s 36ms/step - loss: 0.0176 - acc: 0.9965 - val_loss: 0.5715 - val_acc: 0.8726\n",
      "Epoch 17/20\n",
      "30/30 [==============================] - 1s 34ms/step - loss: 0.0093 - acc: 0.9995 - val_loss: 0.6070 - val_acc: 0.8674\n",
      "Epoch 18/20\n",
      "30/30 [==============================] - 1s 35ms/step - loss: 0.0154 - acc: 0.9963 - val_loss: 0.6397 - val_acc: 0.8682\n",
      "Epoch 19/20\n",
      "30/30 [==============================] - 1s 36ms/step - loss: 0.0056 - acc: 0.9998 - val_loss: 0.6830 - val_acc: 0.8668\n",
      "Epoch 20/20\n",
      "30/30 [==============================] - 1s 36ms/step - loss: 0.0073 - acc: 0.9989 - val_loss: 0.7086 - val_acc: 0.8646\n"
     ]
    }
   ],
   "source": [
    "history = model.fit(partial_x_train,\n",
    "partial_y_train,\n",
    "epochs=20,\n",
    "batch_size=512,\n",
    "validation_data=(x_val, y_val))"
   ]
  },
  {
   "cell_type": "code",
   "execution_count": 14,
   "id": "271958f1",
   "metadata": {},
   "outputs": [
    {
     "data": {
      "text/plain": [
       "dict_keys(['loss', 'acc', 'val_loss', 'val_acc'])"
      ]
     },
     "execution_count": 14,
     "metadata": {},
     "output_type": "execute_result"
    }
   ],
   "source": [
    "history_dict=history.history\n",
    "history_dict.keys()"
   ]
  },
  {
   "cell_type": "code",
   "execution_count": 15,
   "id": "5cc7d887",
   "metadata": {},
   "outputs": [
    {
     "name": "stdout",
     "output_type": "stream",
     "text": [
      "Epoch 1/4\n",
      "49/49 [==============================] - 5s 34ms/step - loss: 0.4685 - accuracy: 0.8195\n",
      "Epoch 2/4\n",
      "49/49 [==============================] - 1s 27ms/step - loss: 0.2700 - accuracy: 0.9095\n",
      "Epoch 3/4\n",
      "49/49 [==============================] - 1s 26ms/step - loss: 0.2075 - accuracy: 0.9275\n",
      "Epoch 4/4\n",
      "49/49 [==============================] - 1s 25ms/step - loss: 0.1744 - accuracy: 0.9398\n",
      "782/782 [==============================] - 5s 5ms/step - loss: 0.2882 - accuracy: 0.8860\n"
     ]
    }
   ],
   "source": [
    "model = models.Sequential()\n",
    "model.add(layers.Dense(16, activation='relu', input_shape=(10000,)))\n",
    "model.add(layers.Dense(16, activation='relu'))\n",
    "model.add(layers.Dense(1, activation='sigmoid'))\n",
    "model.compile(optimizer='rmsprop',\n",
    "loss='binary_crossentropy',\n",
    "metrics=['accuracy'])\n",
    "model.fit(x_train, y_train, epochs=4, batch_size=512)\n",
    "results = model.evaluate(x_test, y_test)"
   ]
  },
  {
   "cell_type": "code",
   "execution_count": 16,
   "id": "86bf06e1",
   "metadata": {},
   "outputs": [
    {
     "data": {
      "text/plain": [
       "[0.2881523370742798, 0.8860399723052979]"
      ]
     },
     "execution_count": 16,
     "metadata": {},
     "output_type": "execute_result"
    }
   ],
   "source": [
    "results"
   ]
  },
  {
   "cell_type": "code",
   "execution_count": 17,
   "id": "8830c8d7",
   "metadata": {},
   "outputs": [
    {
     "name": "stdout",
     "output_type": "stream",
     "text": [
      "782/782 [==============================] - 4s 4ms/step\n"
     ]
    },
    {
     "data": {
      "text/plain": [
       "array([[0.2049597 ],\n",
       "       [0.99994534],\n",
       "       [0.94518965],\n",
       "       ...,\n",
       "       [0.11635909],\n",
       "       [0.06902444],\n",
       "       [0.6206465 ]], dtype=float32)"
      ]
     },
     "execution_count": 17,
     "metadata": {},
     "output_type": "execute_result"
    }
   ],
   "source": [
    "model.predict(x_test)"
   ]
  },
  {
   "cell_type": "code",
   "execution_count": null,
   "id": "d7939cec",
   "metadata": {},
   "outputs": [],
   "source": []
  }
 ],
 "metadata": {
  "kernelspec": {
   "display_name": "Python 3 (ipykernel)",
   "language": "python",
   "name": "python3"
  },
  "language_info": {
   "codemirror_mode": {
    "name": "ipython",
    "version": 3
   },
   "file_extension": ".py",
   "mimetype": "text/x-python",
   "name": "python",
   "nbconvert_exporter": "python",
   "pygments_lexer": "ipython3",
   "version": "3.9.12"
  }
 },
 "nbformat": 4,
 "nbformat_minor": 5
}
